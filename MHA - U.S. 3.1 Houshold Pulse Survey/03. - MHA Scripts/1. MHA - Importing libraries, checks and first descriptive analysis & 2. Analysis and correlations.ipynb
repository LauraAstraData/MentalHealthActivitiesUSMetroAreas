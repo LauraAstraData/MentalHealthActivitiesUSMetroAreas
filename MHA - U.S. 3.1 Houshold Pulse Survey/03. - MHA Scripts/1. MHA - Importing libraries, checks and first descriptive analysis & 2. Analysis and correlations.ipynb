{
 "cells": [
  {
   "cell_type": "markdown",
   "id": "b88b1636",
   "metadata": {},
   "source": [
    "#### 1. Importing libraries and dataset\n"
   ]
  },
  {
   "cell_type": "code",
   "execution_count": 1,
   "id": "25da4401",
   "metadata": {},
   "outputs": [],
   "source": [
    "# importing libraries\n",
    "import pandas as pd\n",
    "import numpy as np\n",
    "import os\n",
    "import openpyxl"
   ]
  },
  {
   "cell_type": "code",
   "execution_count": 2,
   "id": "fe1f2228",
   "metadata": {},
   "outputs": [],
   "source": [
    "# import U.S. mental health activities dataset\n",
    "path = r'C:\\Users\\laune\\Desktop\\GitHub\\MHA - U.S. 3.1 Houshold Pulse Survey'"
   ]
  },
  {
   "cell_type": "code",
   "execution_count": 3,
   "id": "f8e90907",
   "metadata": {},
   "outputs": [
    {
     "data": {
      "text/plain": [
       "'C:\\\\Users\\\\laune\\\\Desktop\\\\GitHub\\\\MHA - U.S. 3.1 Houshold Pulse Survey'"
      ]
     },
     "execution_count": 3,
     "metadata": {},
     "output_type": "execute_result"
    }
   ],
   "source": [
    "path"
   ]
  },
  {
   "cell_type": "code",
   "execution_count": 4,
   "id": "ebe0bde6",
   "metadata": {},
   "outputs": [],
   "source": [
    "df_mha = pd.read_excel(os.path.join(path, '02. - MHA Data', 'Prepared Data', 'Health4_3.1_US Metro Cities.xlsx'))"
   ]
  },
  {
   "cell_type": "code",
   "execution_count": 5,
   "id": "aeeb0d6b",
   "metadata": {},
   "outputs": [
    {
     "data": {
      "text/html": [
       "<div>\n",
       "<style scoped>\n",
       "    .dataframe tbody tr th:only-of-type {\n",
       "        vertical-align: middle;\n",
       "    }\n",
       "\n",
       "    .dataframe tbody tr th {\n",
       "        vertical-align: top;\n",
       "    }\n",
       "\n",
       "    .dataframe thead th {\n",
       "        text-align: right;\n",
       "    }\n",
       "</style>\n",
       "<table border=\"1\" class=\"dataframe\">\n",
       "  <thead>\n",
       "    <tr style=\"text-align: right;\">\n",
       "      <th></th>\n",
       "      <th>question</th>\n",
       "      <th>period</th>\n",
       "      <th>city</th>\n",
       "      <th>total</th>\n",
       "      <th>male</th>\n",
       "      <th>female</th>\n",
       "      <th>age18-29</th>\n",
       "      <th>age30-39</th>\n",
       "      <th>age40-49</th>\n",
       "      <th>age50-59</th>\n",
       "      <th>...</th>\n",
       "      <th>current_emp_na</th>\n",
       "      <th>inc. &lt; $25,000</th>\n",
       "      <th>inc. $25,000-$34,999</th>\n",
       "      <th>inc. $35,000-$49,999</th>\n",
       "      <th>inc. $50,000-$74,999</th>\n",
       "      <th>inc. $75,000 -$99,999</th>\n",
       "      <th>inc. $100,000 $149,999</th>\n",
       "      <th>inc. $150,000-$199,999</th>\n",
       "      <th>inc. $200,000_higher</th>\n",
       "      <th>inc_na</th>\n",
       "    </tr>\n",
       "  </thead>\n",
       "  <tbody>\n",
       "    <tr>\n",
       "      <th>0</th>\n",
       "      <td>q1.yes</td>\n",
       "      <td>28 W</td>\n",
       "      <td>New York</td>\n",
       "      <td>1113625</td>\n",
       "      <td>508036</td>\n",
       "      <td>605589</td>\n",
       "      <td>258857</td>\n",
       "      <td>265299</td>\n",
       "      <td>218900</td>\n",
       "      <td>184694</td>\n",
       "      <td>...</td>\n",
       "      <td>NaN</td>\n",
       "      <td>116702.0</td>\n",
       "      <td>47944.0</td>\n",
       "      <td>105823.0</td>\n",
       "      <td>109510.0</td>\n",
       "      <td>89762.0</td>\n",
       "      <td>176770.0</td>\n",
       "      <td>64753.0</td>\n",
       "      <td>193055.0</td>\n",
       "      <td>209306.0</td>\n",
       "    </tr>\n",
       "    <tr>\n",
       "      <th>1</th>\n",
       "      <td>q1.no</td>\n",
       "      <td>28 W</td>\n",
       "      <td>New York</td>\n",
       "      <td>8080542</td>\n",
       "      <td>3772565</td>\n",
       "      <td>4307977</td>\n",
       "      <td>752052</td>\n",
       "      <td>1558244</td>\n",
       "      <td>1512048</td>\n",
       "      <td>1740146</td>\n",
       "      <td>...</td>\n",
       "      <td>20697.0</td>\n",
       "      <td>954467.0</td>\n",
       "      <td>626743.0</td>\n",
       "      <td>890579.0</td>\n",
       "      <td>924343.0</td>\n",
       "      <td>986430.0</td>\n",
       "      <td>1264268.0</td>\n",
       "      <td>575338.0</td>\n",
       "      <td>926301.0</td>\n",
       "      <td>932072.0</td>\n",
       "    </tr>\n",
       "    <tr>\n",
       "      <th>2</th>\n",
       "      <td>q1.na</td>\n",
       "      <td>28 W</td>\n",
       "      <td>New York</td>\n",
       "      <td>4157438</td>\n",
       "      <td>2246300</td>\n",
       "      <td>1911138</td>\n",
       "      <td>984739</td>\n",
       "      <td>659078</td>\n",
       "      <td>678775</td>\n",
       "      <td>655634</td>\n",
       "      <td>...</td>\n",
       "      <td>111114.0</td>\n",
       "      <td>39682.0</td>\n",
       "      <td>6353.0</td>\n",
       "      <td>NaN</td>\n",
       "      <td>NaN</td>\n",
       "      <td>25224.0</td>\n",
       "      <td>NaN</td>\n",
       "      <td>NaN</td>\n",
       "      <td>13889.0</td>\n",
       "      <td>4072290.0</td>\n",
       "    </tr>\n",
       "    <tr>\n",
       "      <th>3</th>\n",
       "      <td>q2.yes</td>\n",
       "      <td>28 W</td>\n",
       "      <td>New York</td>\n",
       "      <td>814803</td>\n",
       "      <td>288572</td>\n",
       "      <td>526231</td>\n",
       "      <td>143653</td>\n",
       "      <td>252050</td>\n",
       "      <td>172999</td>\n",
       "      <td>157136</td>\n",
       "      <td>...</td>\n",
       "      <td>NaN</td>\n",
       "      <td>213868.0</td>\n",
       "      <td>52689.0</td>\n",
       "      <td>55311.0</td>\n",
       "      <td>94916.0</td>\n",
       "      <td>63866.0</td>\n",
       "      <td>111164.0</td>\n",
       "      <td>31507.0</td>\n",
       "      <td>76405.0</td>\n",
       "      <td>115077.0</td>\n",
       "    </tr>\n",
       "    <tr>\n",
       "      <th>4</th>\n",
       "      <td>q2.no</td>\n",
       "      <td>28 W</td>\n",
       "      <td>New York</td>\n",
       "      <td>8393820</td>\n",
       "      <td>4008353</td>\n",
       "      <td>4385467</td>\n",
       "      <td>867832</td>\n",
       "      <td>1571493</td>\n",
       "      <td>1558568</td>\n",
       "      <td>1782572</td>\n",
       "      <td>...</td>\n",
       "      <td>20697.0</td>\n",
       "      <td>853710.0</td>\n",
       "      <td>622573.0</td>\n",
       "      <td>941091.0</td>\n",
       "      <td>938938.0</td>\n",
       "      <td>1020978.0</td>\n",
       "      <td>1324806.0</td>\n",
       "      <td>608584.0</td>\n",
       "      <td>1056840.0</td>\n",
       "      <td>1026301.0</td>\n",
       "    </tr>\n",
       "  </tbody>\n",
       "</table>\n",
       "<p>5 rows × 47 columns</p>\n",
       "</div>"
      ],
      "text/plain": [
       "  question period      city    total     male   female  age18-29  age30-39  \\\n",
       "0   q1.yes   28 W  New York  1113625   508036   605589    258857    265299   \n",
       "1    q1.no   28 W  New York  8080542  3772565  4307977    752052   1558244   \n",
       "2    q1.na   28 W  New York  4157438  2246300  1911138    984739    659078   \n",
       "3   q2.yes   28 W  New York   814803   288572   526231    143653    252050   \n",
       "4    q2.no   28 W  New York  8393820  4008353  4385467    867832   1571493   \n",
       "\n",
       "   age40-49  age50-59  ...  current_emp_na  inc. < $25,000  \\\n",
       "0    218900    184694  ...             NaN        116702.0   \n",
       "1   1512048   1740146  ...         20697.0        954467.0   \n",
       "2    678775    655634  ...        111114.0         39682.0   \n",
       "3    172999    157136  ...             NaN        213868.0   \n",
       "4   1558568   1782572  ...         20697.0        853710.0   \n",
       "\n",
       "   inc. $25,000-$34,999  inc. $35,000-$49,999  inc. $50,000-$74,999  \\\n",
       "0               47944.0              105823.0              109510.0   \n",
       "1              626743.0              890579.0              924343.0   \n",
       "2                6353.0                   NaN                   NaN   \n",
       "3               52689.0               55311.0               94916.0   \n",
       "4              622573.0              941091.0              938938.0   \n",
       "\n",
       "   inc. $75,000 -$99,999  inc. $100,000 $149,999  inc. $150,000-$199,999  \\\n",
       "0                89762.0                176770.0                 64753.0   \n",
       "1               986430.0               1264268.0                575338.0   \n",
       "2                25224.0                     NaN                     NaN   \n",
       "3                63866.0                111164.0                 31507.0   \n",
       "4              1020978.0               1324806.0                608584.0   \n",
       "\n",
       "   inc. $200,000_higher     inc_na  \n",
       "0              193055.0   209306.0  \n",
       "1              926301.0   932072.0  \n",
       "2               13889.0  4072290.0  \n",
       "3               76405.0   115077.0  \n",
       "4             1056840.0  1026301.0  \n",
       "\n",
       "[5 rows x 47 columns]"
      ]
     },
     "execution_count": 5,
     "metadata": {},
     "output_type": "execute_result"
    }
   ],
   "source": [
    "df_mha.head()"
   ]
  },
  {
   "cell_type": "code",
   "execution_count": 6,
   "id": "3e19083c",
   "metadata": {},
   "outputs": [
    {
     "data": {
      "text/html": [
       "<div>\n",
       "<style scoped>\n",
       "    .dataframe tbody tr th:only-of-type {\n",
       "        vertical-align: middle;\n",
       "    }\n",
       "\n",
       "    .dataframe tbody tr th {\n",
       "        vertical-align: top;\n",
       "    }\n",
       "\n",
       "    .dataframe thead th {\n",
       "        text-align: right;\n",
       "    }\n",
       "</style>\n",
       "<table border=\"1\" class=\"dataframe\">\n",
       "  <thead>\n",
       "    <tr style=\"text-align: right;\">\n",
       "      <th></th>\n",
       "      <th>question</th>\n",
       "      <th>period</th>\n",
       "      <th>city</th>\n",
       "      <th>total</th>\n",
       "      <th>male</th>\n",
       "      <th>female</th>\n",
       "      <th>age18-29</th>\n",
       "      <th>age30-39</th>\n",
       "      <th>age40-49</th>\n",
       "      <th>age50-59</th>\n",
       "      <th>...</th>\n",
       "      <th>current_emp_na</th>\n",
       "      <th>inc. &lt; $25,000</th>\n",
       "      <th>inc. $25,000-$34,999</th>\n",
       "      <th>inc. $35,000-$49,999</th>\n",
       "      <th>inc. $50,000-$74,999</th>\n",
       "      <th>inc. $75,000 -$99,999</th>\n",
       "      <th>inc. $100,000 $149,999</th>\n",
       "      <th>inc. $150,000-$199,999</th>\n",
       "      <th>inc. $200,000_higher</th>\n",
       "      <th>inc_na</th>\n",
       "    </tr>\n",
       "  </thead>\n",
       "  <tbody>\n",
       "    <tr>\n",
       "      <th>805</th>\n",
       "      <td>q2.no</td>\n",
       "      <td>33 W</td>\n",
       "      <td>Seattle</td>\n",
       "      <td>2246231</td>\n",
       "      <td>1292244</td>\n",
       "      <td>953986</td>\n",
       "      <td>321800</td>\n",
       "      <td>537533</td>\n",
       "      <td>408393</td>\n",
       "      <td>412558</td>\n",
       "      <td>...</td>\n",
       "      <td>2535.0</td>\n",
       "      <td>166654.0</td>\n",
       "      <td>259597.0</td>\n",
       "      <td>147379.0</td>\n",
       "      <td>267523.0</td>\n",
       "      <td>224406.0</td>\n",
       "      <td>392415.0</td>\n",
       "      <td>213178.0</td>\n",
       "      <td>357279.0</td>\n",
       "      <td>217799.0</td>\n",
       "    </tr>\n",
       "    <tr>\n",
       "      <th>806</th>\n",
       "      <td>q2.na</td>\n",
       "      <td>33 W</td>\n",
       "      <td>Seattle</td>\n",
       "      <td>757812</td>\n",
       "      <td>440290</td>\n",
       "      <td>317521</td>\n",
       "      <td>265334</td>\n",
       "      <td>95948</td>\n",
       "      <td>122804</td>\n",
       "      <td>129178</td>\n",
       "      <td>...</td>\n",
       "      <td>8019.0</td>\n",
       "      <td>NaN</td>\n",
       "      <td>NaN</td>\n",
       "      <td>NaN</td>\n",
       "      <td>NaN</td>\n",
       "      <td>NaN</td>\n",
       "      <td>NaN</td>\n",
       "      <td>973.0</td>\n",
       "      <td>1974.0</td>\n",
       "      <td>754864.0</td>\n",
       "    </tr>\n",
       "    <tr>\n",
       "      <th>807</th>\n",
       "      <td>q3.yes</td>\n",
       "      <td>33 W</td>\n",
       "      <td>Seattle</td>\n",
       "      <td>510680</td>\n",
       "      <td>190939</td>\n",
       "      <td>319741</td>\n",
       "      <td>71557</td>\n",
       "      <td>141570</td>\n",
       "      <td>84106</td>\n",
       "      <td>90588</td>\n",
       "      <td>...</td>\n",
       "      <td>NaN</td>\n",
       "      <td>39428.0</td>\n",
       "      <td>74105.0</td>\n",
       "      <td>27491.0</td>\n",
       "      <td>62334.0</td>\n",
       "      <td>53525.0</td>\n",
       "      <td>105132.0</td>\n",
       "      <td>55649.0</td>\n",
       "      <td>54535.0</td>\n",
       "      <td>38482.0</td>\n",
       "    </tr>\n",
       "    <tr>\n",
       "      <th>808</th>\n",
       "      <td>q3.no</td>\n",
       "      <td>33 W</td>\n",
       "      <td>Seattle</td>\n",
       "      <td>2036520</td>\n",
       "      <td>1181024</td>\n",
       "      <td>855496</td>\n",
       "      <td>302547</td>\n",
       "      <td>487409</td>\n",
       "      <td>386282</td>\n",
       "      <td>368822</td>\n",
       "      <td>...</td>\n",
       "      <td>2535.0</td>\n",
       "      <td>152931.0</td>\n",
       "      <td>218003.0</td>\n",
       "      <td>148859.0</td>\n",
       "      <td>276039.0</td>\n",
       "      <td>202236.0</td>\n",
       "      <td>337222.0</td>\n",
       "      <td>169111.0</td>\n",
       "      <td>328115.0</td>\n",
       "      <td>204006.0</td>\n",
       "    </tr>\n",
       "    <tr>\n",
       "      <th>809</th>\n",
       "      <td>q3.na</td>\n",
       "      <td>33 W</td>\n",
       "      <td>Seattle</td>\n",
       "      <td>758906</td>\n",
       "      <td>441713</td>\n",
       "      <td>317193</td>\n",
       "      <td>265334</td>\n",
       "      <td>98530</td>\n",
       "      <td>123749</td>\n",
       "      <td>129178</td>\n",
       "      <td>...</td>\n",
       "      <td>8019.0</td>\n",
       "      <td>NaN</td>\n",
       "      <td>2583.0</td>\n",
       "      <td>645.0</td>\n",
       "      <td>NaN</td>\n",
       "      <td>NaN</td>\n",
       "      <td>NaN</td>\n",
       "      <td>NaN</td>\n",
       "      <td>1974.0</td>\n",
       "      <td>753704.0</td>\n",
       "    </tr>\n",
       "  </tbody>\n",
       "</table>\n",
       "<p>5 rows × 47 columns</p>\n",
       "</div>"
      ],
      "text/plain": [
       "    question period     city    total     male  female  age18-29  age30-39  \\\n",
       "805    q2.no   33 W  Seattle  2246231  1292244  953986    321800    537533   \n",
       "806    q2.na   33 W  Seattle   757812   440290  317521    265334     95948   \n",
       "807   q3.yes   33 W  Seattle   510680   190939  319741     71557    141570   \n",
       "808    q3.no   33 W  Seattle  2036520  1181024  855496    302547    487409   \n",
       "809    q3.na   33 W  Seattle   758906   441713  317193    265334     98530   \n",
       "\n",
       "     age40-49  age50-59  ...  current_emp_na  inc. < $25,000  \\\n",
       "805    408393    412558  ...          2535.0        166654.0   \n",
       "806    122804    129178  ...          8019.0             NaN   \n",
       "807     84106     90588  ...             NaN         39428.0   \n",
       "808    386282    368822  ...          2535.0        152931.0   \n",
       "809    123749    129178  ...          8019.0             NaN   \n",
       "\n",
       "     inc. $25,000-$34,999  inc. $35,000-$49,999  inc. $50,000-$74,999  \\\n",
       "805              259597.0              147379.0              267523.0   \n",
       "806                   NaN                   NaN                   NaN   \n",
       "807               74105.0               27491.0               62334.0   \n",
       "808              218003.0              148859.0              276039.0   \n",
       "809                2583.0                 645.0                   NaN   \n",
       "\n",
       "     inc. $75,000 -$99,999  inc. $100,000 $149,999  inc. $150,000-$199,999  \\\n",
       "805               224406.0                392415.0                213178.0   \n",
       "806                    NaN                     NaN                   973.0   \n",
       "807                53525.0                105132.0                 55649.0   \n",
       "808               202236.0                337222.0                169111.0   \n",
       "809                    NaN                     NaN                     NaN   \n",
       "\n",
       "     inc. $200,000_higher    inc_na  \n",
       "805              357279.0  217799.0  \n",
       "806                1974.0  754864.0  \n",
       "807               54535.0   38482.0  \n",
       "808              328115.0  204006.0  \n",
       "809                1974.0  753704.0  \n",
       "\n",
       "[5 rows x 47 columns]"
      ]
     },
     "execution_count": 6,
     "metadata": {},
     "output_type": "execute_result"
    }
   ],
   "source": [
    "df_mha.tail()"
   ]
  },
  {
   "cell_type": "code",
   "execution_count": 7,
   "id": "29af3fa7",
   "metadata": {},
   "outputs": [
    {
     "data": {
      "text/plain": [
       "(810, 47)"
      ]
     },
     "execution_count": 7,
     "metadata": {},
     "output_type": "execute_result"
    }
   ],
   "source": [
    "df_mha.shape"
   ]
  },
  {
   "cell_type": "code",
   "execution_count": 8,
   "id": "cfb9143a",
   "metadata": {},
   "outputs": [
    {
     "name": "stdout",
     "output_type": "stream",
     "text": [
      "<class 'pandas.core.frame.DataFrame'>\n",
      "RangeIndex: 810 entries, 0 to 809\n",
      "Data columns (total 47 columns):\n",
      " #   Column                  Non-Null Count  Dtype  \n",
      "---  ------                  --------------  -----  \n",
      " 0   question                810 non-null    object \n",
      " 1   period                  810 non-null    object \n",
      " 2   city                    810 non-null    object \n",
      " 3   total                   810 non-null    int64  \n",
      " 4   male                    810 non-null    int64  \n",
      " 5   female                  810 non-null    int64  \n",
      " 6   age18-29                810 non-null    int64  \n",
      " 7   age30-39                810 non-null    int64  \n",
      " 8   age40-49                810 non-null    int64  \n",
      " 9   age50-59                810 non-null    int64  \n",
      " 10  age60-69                810 non-null    int64  \n",
      " 11  age70-79                810 non-null    float64\n",
      " 12  age>80                  810 non-null    float64\n",
      " 13  hispanic_latin          810 non-null    int64  \n",
      " 14  white                   810 non-null    int64  \n",
      " 15  black                   810 non-null    float64\n",
      " 16  asian                   797 non-null    float64\n",
      " 17  other_races             807 non-null    float64\n",
      " 18  married                 810 non-null    int64  \n",
      " 19  widowed                 810 non-null    int64  \n",
      " 20  divorced_separated      810 non-null    int64  \n",
      " 21  never_married           810 non-null    int64  \n",
      " 22  martial_status_na       678 non-null    float64\n",
      " 23  hh1                     810 non-null    int64  \n",
      " 24  hh2                     810 non-null    int64  \n",
      " 25  hh3                     810 non-null    int64  \n",
      " 26  hh4                     810 non-null    int64  \n",
      " 27  hh5                     810 non-null    int64  \n",
      " 28  hh6                     802 non-null    float64\n",
      " 29  hh7                     783 non-null    float64\n",
      " 30  child<18y_yes           810 non-null    int64  \n",
      " 31  child<18y_no            810 non-null    int64  \n",
      " 32  loss_empl. income_yes   810 non-null    int64  \n",
      " 33  loss_empl. income_no    810 non-null    int64  \n",
      " 34  loss_empl. income_na    568 non-null    float64\n",
      " 35  current. emp_yes        810 non-null    int64  \n",
      " 36  current_emp_no          810 non-null    int64  \n",
      " 37  current_emp_na          544 non-null    float64\n",
      " 38  inc. < $25,000          639 non-null    float64\n",
      " 39  inc. $25,000-$34,999    608 non-null    float64\n",
      " 40  inc. $35,000-$49,999    621 non-null    float64\n",
      " 41  inc. $50,000-$74,999    633 non-null    float64\n",
      " 42  inc. $75,000 -$99,999   638 non-null    float64\n",
      " 43  inc. $100,000 $149,999  649 non-null    float64\n",
      " 44  inc. $150,000-$199,999  624 non-null    float64\n",
      " 45  inc. $200,000_higher    661 non-null    float64\n",
      " 46  inc_na                  809 non-null    float64\n",
      "dtypes: float64(19), int64(25), object(3)\n",
      "memory usage: 297.5+ KB\n"
     ]
    }
   ],
   "source": [
    "df_mha.info()"
   ]
  },
  {
   "cell_type": "code",
   "execution_count": 9,
   "id": "b2bef24b",
   "metadata": {},
   "outputs": [
    {
     "data": {
      "text/plain": [
       "question                   object\n",
       "period                     object\n",
       "city                       object\n",
       "total                       int64\n",
       "male                        int64\n",
       "female                      int64\n",
       "age18-29                    int64\n",
       "age30-39                    int64\n",
       "age40-49                    int64\n",
       "age50-59                    int64\n",
       "age60-69                    int64\n",
       "age70-79                  float64\n",
       "age>80                    float64\n",
       "hispanic_latin              int64\n",
       "white                       int64\n",
       "black                     float64\n",
       "asian                     float64\n",
       "other_races               float64\n",
       "married                     int64\n",
       "widowed                     int64\n",
       "divorced_separated          int64\n",
       "never_married               int64\n",
       "martial_status_na         float64\n",
       "hh1                         int64\n",
       "hh2                         int64\n",
       "hh3                         int64\n",
       "hh4                         int64\n",
       "hh5                         int64\n",
       "hh6                       float64\n",
       "hh7                       float64\n",
       "child<18y_yes               int64\n",
       "child<18y_no                int64\n",
       "loss_empl. income_yes       int64\n",
       "loss_empl. income_no        int64\n",
       "loss_empl. income_na      float64\n",
       "current. emp_yes            int64\n",
       "current_emp_no              int64\n",
       "current_emp_na            float64\n",
       "inc. < $25,000            float64\n",
       "inc. $25,000-$34,999      float64\n",
       "inc. $35,000-$49,999      float64\n",
       "inc. $50,000-$74,999      float64\n",
       "inc. $75,000 -$99,999     float64\n",
       "inc. $100,000 $149,999    float64\n",
       "inc. $150,000-$199,999    float64\n",
       "inc. $200,000_higher      float64\n",
       "inc_na                    float64\n",
       "dtype: object"
      ]
     },
     "execution_count": 9,
     "metadata": {},
     "output_type": "execute_result"
    }
   ],
   "source": [
    "df_mha.dtypes"
   ]
  },
  {
   "cell_type": "code",
   "execution_count": 10,
   "id": "685883fa",
   "metadata": {},
   "outputs": [
    {
     "data": {
      "text/html": [
       "<div>\n",
       "<style scoped>\n",
       "    .dataframe tbody tr th:only-of-type {\n",
       "        vertical-align: middle;\n",
       "    }\n",
       "\n",
       "    .dataframe tbody tr th {\n",
       "        vertical-align: top;\n",
       "    }\n",
       "\n",
       "    .dataframe thead th {\n",
       "        text-align: right;\n",
       "    }\n",
       "</style>\n",
       "<table border=\"1\" class=\"dataframe\">\n",
       "  <thead>\n",
       "    <tr style=\"text-align: right;\">\n",
       "      <th></th>\n",
       "      <th>total</th>\n",
       "      <th>male</th>\n",
       "      <th>female</th>\n",
       "      <th>age18-29</th>\n",
       "      <th>age30-39</th>\n",
       "      <th>age40-49</th>\n",
       "      <th>age50-59</th>\n",
       "      <th>age60-69</th>\n",
       "      <th>age70-79</th>\n",
       "      <th>age&gt;80</th>\n",
       "      <th>...</th>\n",
       "      <th>current_emp_na</th>\n",
       "      <th>inc. &lt; $25,000</th>\n",
       "      <th>inc. $25,000-$34,999</th>\n",
       "      <th>inc. $35,000-$49,999</th>\n",
       "      <th>inc. $50,000-$74,999</th>\n",
       "      <th>inc. $75,000 -$99,999</th>\n",
       "      <th>inc. $100,000 $149,999</th>\n",
       "      <th>inc. $150,000-$199,999</th>\n",
       "      <th>inc. $200,000_higher</th>\n",
       "      <th>inc_na</th>\n",
       "    </tr>\n",
       "  </thead>\n",
       "  <tbody>\n",
       "    <tr>\n",
       "      <th>count</th>\n",
       "      <td>8.100000e+02</td>\n",
       "      <td>8.100000e+02</td>\n",
       "      <td>8.100000e+02</td>\n",
       "      <td>8.100000e+02</td>\n",
       "      <td>8.100000e+02</td>\n",
       "      <td>8.100000e+02</td>\n",
       "      <td>8.100000e+02</td>\n",
       "      <td>8.100000e+02</td>\n",
       "      <td>8.100000e+02</td>\n",
       "      <td>810.000000</td>\n",
       "      <td>...</td>\n",
       "      <td>544.000000</td>\n",
       "      <td>6.390000e+02</td>\n",
       "      <td>608.000000</td>\n",
       "      <td>6.210000e+02</td>\n",
       "      <td>6.330000e+02</td>\n",
       "      <td>6.380000e+02</td>\n",
       "      <td>6.490000e+02</td>\n",
       "      <td>624.000000</td>\n",
       "      <td>6.610000e+02</td>\n",
       "      <td>8.090000e+02</td>\n",
       "    </tr>\n",
       "    <tr>\n",
       "      <th>mean</th>\n",
       "      <td>1.874716e+06</td>\n",
       "      <td>9.258019e+05</td>\n",
       "      <td>9.489142e+05</td>\n",
       "      <td>3.309407e+05</td>\n",
       "      <td>3.582648e+05</td>\n",
       "      <td>3.299927e+05</td>\n",
       "      <td>3.337394e+05</td>\n",
       "      <td>3.038194e+05</td>\n",
       "      <td>1.673646e+05</td>\n",
       "      <td>51908.751605</td>\n",
       "      <td>...</td>\n",
       "      <td>25080.979779</td>\n",
       "      <td>1.949174e+05</td>\n",
       "      <td>167018.541118</td>\n",
       "      <td>1.726425e+05</td>\n",
       "      <td>2.381532e+05</td>\n",
       "      <td>1.901918e+05</td>\n",
       "      <td>2.523873e+05</td>\n",
       "      <td>137830.193910</td>\n",
       "      <td>1.746425e+05</td>\n",
       "      <td>6.772214e+05</td>\n",
       "    </tr>\n",
       "    <tr>\n",
       "      <th>std</th>\n",
       "      <td>1.668594e+06</td>\n",
       "      <td>8.501698e+05</td>\n",
       "      <td>8.287031e+05</td>\n",
       "      <td>2.589550e+05</td>\n",
       "      <td>3.220078e+05</td>\n",
       "      <td>3.031892e+05</td>\n",
       "      <td>3.291366e+05</td>\n",
       "      <td>3.014380e+05</td>\n",
       "      <td>1.847827e+05</td>\n",
       "      <td>62139.387290</td>\n",
       "      <td>...</td>\n",
       "      <td>29823.473606</td>\n",
       "      <td>2.221657e+05</td>\n",
       "      <td>191435.344113</td>\n",
       "      <td>2.055952e+05</td>\n",
       "      <td>2.586038e+05</td>\n",
       "      <td>2.094355e+05</td>\n",
       "      <td>2.913940e+05</td>\n",
       "      <td>158618.900623</td>\n",
       "      <td>2.301975e+05</td>\n",
       "      <td>8.782655e+05</td>\n",
       "    </tr>\n",
       "    <tr>\n",
       "      <th>min</th>\n",
       "      <td>1.695030e+05</td>\n",
       "      <td>3.994100e+04</td>\n",
       "      <td>8.995800e+04</td>\n",
       "      <td>6.430000e+03</td>\n",
       "      <td>1.550900e+04</td>\n",
       "      <td>1.607100e+04</td>\n",
       "      <td>1.575900e+04</td>\n",
       "      <td>7.063000e+03</td>\n",
       "      <td>1.820000e+02</td>\n",
       "      <td>270.000000</td>\n",
       "      <td>...</td>\n",
       "      <td>352.000000</td>\n",
       "      <td>2.640000e+02</td>\n",
       "      <td>99.000000</td>\n",
       "      <td>5.400000e+01</td>\n",
       "      <td>1.320000e+02</td>\n",
       "      <td>1.710000e+02</td>\n",
       "      <td>1.680000e+02</td>\n",
       "      <td>200.000000</td>\n",
       "      <td>2.040000e+02</td>\n",
       "      <td>2.934000e+03</td>\n",
       "    </tr>\n",
       "    <tr>\n",
       "      <th>25%</th>\n",
       "      <td>6.253928e+05</td>\n",
       "      <td>2.425325e+05</td>\n",
       "      <td>3.529580e+05</td>\n",
       "      <td>1.234720e+05</td>\n",
       "      <td>1.327152e+05</td>\n",
       "      <td>1.114770e+05</td>\n",
       "      <td>1.018488e+05</td>\n",
       "      <td>8.765300e+04</td>\n",
       "      <td>4.015900e+04</td>\n",
       "      <td>9189.500000</td>\n",
       "      <td>...</td>\n",
       "      <td>3343.750000</td>\n",
       "      <td>4.072150e+04</td>\n",
       "      <td>24365.000000</td>\n",
       "      <td>2.479100e+04</td>\n",
       "      <td>3.656800e+04</td>\n",
       "      <td>2.872575e+04</td>\n",
       "      <td>3.483200e+04</td>\n",
       "      <td>18901.500000</td>\n",
       "      <td>1.280300e+04</td>\n",
       "      <td>6.271900e+04</td>\n",
       "    </tr>\n",
       "    <tr>\n",
       "      <th>50%</th>\n",
       "      <td>1.367688e+06</td>\n",
       "      <td>6.667545e+05</td>\n",
       "      <td>6.741365e+05</td>\n",
       "      <td>2.791220e+05</td>\n",
       "      <td>2.596020e+05</td>\n",
       "      <td>2.316520e+05</td>\n",
       "      <td>2.195670e+05</td>\n",
       "      <td>1.891525e+05</td>\n",
       "      <td>8.804650e+04</td>\n",
       "      <td>27912.000000</td>\n",
       "      <td>...</td>\n",
       "      <td>15084.000000</td>\n",
       "      <td>1.096080e+05</td>\n",
       "      <td>84001.500000</td>\n",
       "      <td>8.208200e+04</td>\n",
       "      <td>1.072400e+05</td>\n",
       "      <td>8.866400e+04</td>\n",
       "      <td>1.095460e+05</td>\n",
       "      <td>64950.000000</td>\n",
       "      <td>6.953700e+04</td>\n",
       "      <td>3.098560e+05</td>\n",
       "    </tr>\n",
       "    <tr>\n",
       "      <th>75%</th>\n",
       "      <td>2.651472e+06</td>\n",
       "      <td>1.337848e+06</td>\n",
       "      <td>1.309033e+06</td>\n",
       "      <td>4.457720e+05</td>\n",
       "      <td>4.746162e+05</td>\n",
       "      <td>4.518408e+05</td>\n",
       "      <td>4.609125e+05</td>\n",
       "      <td>4.667138e+05</td>\n",
       "      <td>2.634630e+05</td>\n",
       "      <td>71646.500000</td>\n",
       "      <td>...</td>\n",
       "      <td>35476.000000</td>\n",
       "      <td>2.877430e+05</td>\n",
       "      <td>247666.000000</td>\n",
       "      <td>2.688900e+05</td>\n",
       "      <td>4.098590e+05</td>\n",
       "      <td>3.100418e+05</td>\n",
       "      <td>3.983810e+05</td>\n",
       "      <td>219267.750000</td>\n",
       "      <td>2.720760e+05</td>\n",
       "      <td>1.013932e+06</td>\n",
       "    </tr>\n",
       "    <tr>\n",
       "      <th>max</th>\n",
       "      <td>8.996654e+06</td>\n",
       "      <td>4.307107e+06</td>\n",
       "      <td>4.809332e+06</td>\n",
       "      <td>1.284104e+06</td>\n",
       "      <td>1.906539e+06</td>\n",
       "      <td>1.709946e+06</td>\n",
       "      <td>1.993305e+06</td>\n",
       "      <td>1.794867e+06</td>\n",
       "      <td>1.207655e+06</td>\n",
       "      <td>447683.000000</td>\n",
       "      <td>...</td>\n",
       "      <td>202816.000000</td>\n",
       "      <td>1.170521e+06</td>\n",
       "      <td>869589.000000</td>\n",
       "      <td>1.143407e+06</td>\n",
       "      <td>1.326160e+06</td>\n",
       "      <td>1.059750e+06</td>\n",
       "      <td>1.491733e+06</td>\n",
       "      <td>824528.000000</td>\n",
       "      <td>1.268943e+06</td>\n",
       "      <td>4.576924e+06</td>\n",
       "    </tr>\n",
       "  </tbody>\n",
       "</table>\n",
       "<p>8 rows × 44 columns</p>\n",
       "</div>"
      ],
      "text/plain": [
       "              total          male        female      age18-29      age30-39  \\\n",
       "count  8.100000e+02  8.100000e+02  8.100000e+02  8.100000e+02  8.100000e+02   \n",
       "mean   1.874716e+06  9.258019e+05  9.489142e+05  3.309407e+05  3.582648e+05   \n",
       "std    1.668594e+06  8.501698e+05  8.287031e+05  2.589550e+05  3.220078e+05   \n",
       "min    1.695030e+05  3.994100e+04  8.995800e+04  6.430000e+03  1.550900e+04   \n",
       "25%    6.253928e+05  2.425325e+05  3.529580e+05  1.234720e+05  1.327152e+05   \n",
       "50%    1.367688e+06  6.667545e+05  6.741365e+05  2.791220e+05  2.596020e+05   \n",
       "75%    2.651472e+06  1.337848e+06  1.309033e+06  4.457720e+05  4.746162e+05   \n",
       "max    8.996654e+06  4.307107e+06  4.809332e+06  1.284104e+06  1.906539e+06   \n",
       "\n",
       "           age40-49      age50-59      age60-69      age70-79         age>80  \\\n",
       "count  8.100000e+02  8.100000e+02  8.100000e+02  8.100000e+02     810.000000   \n",
       "mean   3.299927e+05  3.337394e+05  3.038194e+05  1.673646e+05   51908.751605   \n",
       "std    3.031892e+05  3.291366e+05  3.014380e+05  1.847827e+05   62139.387290   \n",
       "min    1.607100e+04  1.575900e+04  7.063000e+03  1.820000e+02     270.000000   \n",
       "25%    1.114770e+05  1.018488e+05  8.765300e+04  4.015900e+04    9189.500000   \n",
       "50%    2.316520e+05  2.195670e+05  1.891525e+05  8.804650e+04   27912.000000   \n",
       "75%    4.518408e+05  4.609125e+05  4.667138e+05  2.634630e+05   71646.500000   \n",
       "max    1.709946e+06  1.993305e+06  1.794867e+06  1.207655e+06  447683.000000   \n",
       "\n",
       "       ...  current_emp_na  inc. < $25,000  inc. $25,000-$34,999  \\\n",
       "count  ...      544.000000    6.390000e+02            608.000000   \n",
       "mean   ...    25080.979779    1.949174e+05         167018.541118   \n",
       "std    ...    29823.473606    2.221657e+05         191435.344113   \n",
       "min    ...      352.000000    2.640000e+02             99.000000   \n",
       "25%    ...     3343.750000    4.072150e+04          24365.000000   \n",
       "50%    ...    15084.000000    1.096080e+05          84001.500000   \n",
       "75%    ...    35476.000000    2.877430e+05         247666.000000   \n",
       "max    ...   202816.000000    1.170521e+06         869589.000000   \n",
       "\n",
       "       inc. $35,000-$49,999  inc. $50,000-$74,999  inc. $75,000 -$99,999  \\\n",
       "count          6.210000e+02          6.330000e+02           6.380000e+02   \n",
       "mean           1.726425e+05          2.381532e+05           1.901918e+05   \n",
       "std            2.055952e+05          2.586038e+05           2.094355e+05   \n",
       "min            5.400000e+01          1.320000e+02           1.710000e+02   \n",
       "25%            2.479100e+04          3.656800e+04           2.872575e+04   \n",
       "50%            8.208200e+04          1.072400e+05           8.866400e+04   \n",
       "75%            2.688900e+05          4.098590e+05           3.100418e+05   \n",
       "max            1.143407e+06          1.326160e+06           1.059750e+06   \n",
       "\n",
       "       inc. $100,000 $149,999  inc. $150,000-$199,999  inc. $200,000_higher  \\\n",
       "count            6.490000e+02              624.000000          6.610000e+02   \n",
       "mean             2.523873e+05           137830.193910          1.746425e+05   \n",
       "std              2.913940e+05           158618.900623          2.301975e+05   \n",
       "min              1.680000e+02              200.000000          2.040000e+02   \n",
       "25%              3.483200e+04            18901.500000          1.280300e+04   \n",
       "50%              1.095460e+05            64950.000000          6.953700e+04   \n",
       "75%              3.983810e+05           219267.750000          2.720760e+05   \n",
       "max              1.491733e+06           824528.000000          1.268943e+06   \n",
       "\n",
       "             inc_na  \n",
       "count  8.090000e+02  \n",
       "mean   6.772214e+05  \n",
       "std    8.782655e+05  \n",
       "min    2.934000e+03  \n",
       "25%    6.271900e+04  \n",
       "50%    3.098560e+05  \n",
       "75%    1.013932e+06  \n",
       "max    4.576924e+06  \n",
       "\n",
       "[8 rows x 44 columns]"
      ]
     },
     "execution_count": 10,
     "metadata": {},
     "output_type": "execute_result"
    }
   ],
   "source": [
    "df_mha.describe()"
   ]
  },
  {
   "cell_type": "code",
   "execution_count": 12,
   "id": "6ee3cf72",
   "metadata": {},
   "outputs": [
    {
     "data": {
      "text/plain": [
       "question                    0\n",
       "period                      0\n",
       "city                        0\n",
       "total                       0\n",
       "male                        0\n",
       "female                      0\n",
       "age18-29                    0\n",
       "age30-39                    0\n",
       "age40-49                    0\n",
       "age50-59                    0\n",
       "age60-69                    0\n",
       "age70-79                    0\n",
       "age>80                      0\n",
       "hispanic_latin              0\n",
       "white                       0\n",
       "black                       0\n",
       "asian                      13\n",
       "other_races                 3\n",
       "married                     0\n",
       "widowed                     0\n",
       "divorced_separated          0\n",
       "never_married               0\n",
       "martial_status_0          132\n",
       "hh1                         0\n",
       "hh2                         0\n",
       "hh3                         0\n",
       "hh4                         0\n",
       "hh5                         0\n",
       "hh6                         8\n",
       "hh7                        27\n",
       "child<18y_yes               0\n",
       "child<18y_no                0\n",
       "loss_empl. income_yes       0\n",
       "loss_empl. income_no        0\n",
       "loss_empl. income_0       242\n",
       "current. emp_yes            0\n",
       "current_emp_no              0\n",
       "current_emp_0             266\n",
       "inc. < $25,000            171\n",
       "inc. $25,000-$34,999      202\n",
       "inc. $35,000-$49,999      189\n",
       "inc. $50,000-$74,999      177\n",
       "inc. $75,000 -$99,999     172\n",
       "inc. $100,000 $149,999    161\n",
       "inc. $150,000-$199,999    186\n",
       "inc. $200,000_higher      149\n",
       "inc_na                      1\n",
       "Unnamed: 47               810\n",
       "dtype: int64"
      ]
     },
     "execution_count": 12,
     "metadata": {},
     "output_type": "execute_result"
    }
   ],
   "source": [
    "# checking data consistency for df_mha\n",
    "df_mha.isnull().sum()"
   ]
  },
  {
   "cell_type": "code",
   "execution_count": 48,
   "id": "9485b576",
   "metadata": {},
   "outputs": [],
   "source": [
    "# checking for missing values and using the median as it has as it gives a better balanced number than mean\n",
    "## checked on excel the mean and median per column before deciding which was the best fit"
   ]
  },
  {
   "cell_type": "code",
   "execution_count": 11,
   "id": "5830f7f5",
   "metadata": {},
   "outputs": [
    {
     "data": {
      "text/plain": [
       "97417.0"
      ]
     },
     "execution_count": 11,
     "metadata": {},
     "output_type": "execute_result"
    }
   ],
   "source": [
    "df_mha['asian'].median()"
   ]
  },
  {
   "cell_type": "code",
   "execution_count": 21,
   "id": "61fc7afe",
   "metadata": {},
   "outputs": [
    {
     "data": {
      "text/plain": [
       "174043.04444444444"
      ]
     },
     "execution_count": 21,
     "metadata": {},
     "output_type": "execute_result"
    }
   ],
   "source": [
    "df_mha['asian'].mean()"
   ]
  },
  {
   "cell_type": "code",
   "execution_count": 22,
   "id": "b25e6fd8",
   "metadata": {
    "scrolled": true
   },
   "outputs": [],
   "source": [
    "df_mha['asian'].fillna(97417, inplace=True)"
   ]
  },
  {
   "cell_type": "code",
   "execution_count": 23,
   "id": "d0ec4639",
   "metadata": {},
   "outputs": [
    {
     "data": {
      "text/plain": [
       "42266.0"
      ]
     },
     "execution_count": 23,
     "metadata": {},
     "output_type": "execute_result"
    }
   ],
   "source": [
    "df_mha['other_races'].median()"
   ]
  },
  {
   "cell_type": "code",
   "execution_count": 24,
   "id": "61438966",
   "metadata": {},
   "outputs": [],
   "source": [
    "df_mha['other_races'].fillna(42266, inplace=True)"
   ]
  },
  {
   "cell_type": "code",
   "execution_count": 30,
   "id": "53f83e9a",
   "metadata": {},
   "outputs": [
    {
     "data": {
      "text/plain": [
       "77749.0"
      ]
     },
     "execution_count": 30,
     "metadata": {},
     "output_type": "execute_result"
    }
   ],
   "source": [
    "df_mha['hh7'].median()"
   ]
  },
  {
   "cell_type": "code",
   "execution_count": 31,
   "id": "530b1201",
   "metadata": {},
   "outputs": [],
   "source": [
    "df_mha['hh7'].fillna(77749, inplace=True)"
   ]
  },
  {
   "cell_type": "code",
   "execution_count": 33,
   "id": "2b1c6fd2",
   "metadata": {},
   "outputs": [
    {
     "data": {
      "text/plain": [
       "109608.0"
      ]
     },
     "execution_count": 33,
     "metadata": {},
     "output_type": "execute_result"
    }
   ],
   "source": [
    "df_mha['inc. < $25,000'].median()"
   ]
  },
  {
   "cell_type": "code",
   "execution_count": 34,
   "id": "abdfad99",
   "metadata": {},
   "outputs": [],
   "source": [
    "df_mha['inc. < $25,000'].fillna(109608, inplace=True)"
   ]
  },
  {
   "cell_type": "code",
   "execution_count": 37,
   "id": "27886204",
   "metadata": {},
   "outputs": [
    {
     "data": {
      "text/plain": [
       "84001.5"
      ]
     },
     "execution_count": 37,
     "metadata": {},
     "output_type": "execute_result"
    }
   ],
   "source": [
    "df_mha['inc. $25,000-$34,999'].median()"
   ]
  },
  {
   "cell_type": "code",
   "execution_count": 38,
   "id": "a8bf8ee5",
   "metadata": {},
   "outputs": [],
   "source": [
    "df_mha['inc. $25,000-$34,999'].fillna(84001, inplace=True)"
   ]
  },
  {
   "cell_type": "code",
   "execution_count": 39,
   "id": "69696862",
   "metadata": {},
   "outputs": [
    {
     "data": {
      "text/plain": [
       "82082.0"
      ]
     },
     "execution_count": 39,
     "metadata": {},
     "output_type": "execute_result"
    }
   ],
   "source": [
    "df_mha['inc. $35,000-$49,999'].median()"
   ]
  },
  {
   "cell_type": "code",
   "execution_count": 40,
   "id": "777d9c22",
   "metadata": {},
   "outputs": [],
   "source": [
    "df_mha['inc. $35,000-$49,999'].fillna(82082, inplace=True)"
   ]
  },
  {
   "cell_type": "code",
   "execution_count": 41,
   "id": "ef819c03",
   "metadata": {},
   "outputs": [
    {
     "data": {
      "text/plain": [
       "107240.0"
      ]
     },
     "execution_count": 41,
     "metadata": {},
     "output_type": "execute_result"
    }
   ],
   "source": [
    "df_mha['inc. $50,000-$74,999'].median()"
   ]
  },
  {
   "cell_type": "code",
   "execution_count": 42,
   "id": "ce60ec68",
   "metadata": {},
   "outputs": [],
   "source": [
    "df_mha['inc. $50,000-$74,999'].fillna(107240, inplace=True)"
   ]
  },
  {
   "cell_type": "code",
   "execution_count": 44,
   "id": "5b33641f",
   "metadata": {},
   "outputs": [
    {
     "data": {
      "text/plain": [
       "88664.0"
      ]
     },
     "execution_count": 44,
     "metadata": {},
     "output_type": "execute_result"
    }
   ],
   "source": [
    "df_mha['inc. $75,000 -$99,999'].median()"
   ]
  },
  {
   "cell_type": "code",
   "execution_count": 46,
   "id": "5f0c0785",
   "metadata": {},
   "outputs": [],
   "source": [
    "df_mha['inc. $75,000 -$99,999'].fillna(88664, inplace=True)"
   ]
  },
  {
   "cell_type": "code",
   "execution_count": 47,
   "id": "5fde3ecd",
   "metadata": {},
   "outputs": [
    {
     "data": {
      "text/plain": [
       "109546.0"
      ]
     },
     "execution_count": 47,
     "metadata": {},
     "output_type": "execute_result"
    }
   ],
   "source": [
    "df_mha['inc. $100,000 $149,999'].median()"
   ]
  },
  {
   "cell_type": "code",
   "execution_count": 55,
   "id": "34181f4f",
   "metadata": {},
   "outputs": [],
   "source": [
    "df_mha['inc. $100,000 $149,999'].fillna(109546, inplace=True)"
   ]
  },
  {
   "cell_type": "code",
   "execution_count": 50,
   "id": "12962eff",
   "metadata": {},
   "outputs": [
    {
     "data": {
      "text/plain": [
       "64950.0"
      ]
     },
     "execution_count": 50,
     "metadata": {},
     "output_type": "execute_result"
    }
   ],
   "source": [
    "df_mha['inc. $150,000-$199,999'].median()"
   ]
  },
  {
   "cell_type": "code",
   "execution_count": 52,
   "id": "bffa3cc7",
   "metadata": {},
   "outputs": [],
   "source": [
    "df_mha['inc. $150,000-$199,999'].fillna(64950, inplace=True)"
   ]
  },
  {
   "cell_type": "code",
   "execution_count": 53,
   "id": "8894c665",
   "metadata": {},
   "outputs": [
    {
     "data": {
      "text/plain": [
       "69537.0"
      ]
     },
     "execution_count": 53,
     "metadata": {},
     "output_type": "execute_result"
    }
   ],
   "source": [
    "df_mha['inc. $200,000_higher'].median()"
   ]
  },
  {
   "cell_type": "code",
   "execution_count": 56,
   "id": "8835f269",
   "metadata": {},
   "outputs": [],
   "source": [
    "df_mha['inc. $200,000_higher'].fillna(69537, inplace=True)"
   ]
  },
  {
   "cell_type": "code",
   "execution_count": 57,
   "id": "e161803c",
   "metadata": {},
   "outputs": [
    {
     "data": {
      "text/plain": [
       "309856.0"
      ]
     },
     "execution_count": 57,
     "metadata": {},
     "output_type": "execute_result"
    }
   ],
   "source": [
    "df_mha['inc_na'].median()"
   ]
  },
  {
   "cell_type": "code",
   "execution_count": 58,
   "id": "05f19f6b",
   "metadata": {},
   "outputs": [],
   "source": [
    "df_mha['inc_na'].fillna(309856, inplace=True)"
   ]
  },
  {
   "cell_type": "code",
   "execution_count": 59,
   "id": "affa87b2",
   "metadata": {},
   "outputs": [
    {
     "data": {
      "text/plain": [
       "question                    0\n",
       "period                      0\n",
       "city                        0\n",
       "total                       0\n",
       "male                        0\n",
       "female                      0\n",
       "age18-29                    0\n",
       "age30-39                    0\n",
       "age40-49                    0\n",
       "age50-59                    0\n",
       "age60-69                    0\n",
       "age70-79                    0\n",
       "age>80                      0\n",
       "hispanic_latin              0\n",
       "white                       0\n",
       "black                       0\n",
       "asian                       0\n",
       "other_races                 0\n",
       "married                     0\n",
       "widowed                     0\n",
       "divorced_separated          0\n",
       "never_married               0\n",
       "martial_status_na         132\n",
       "hh1                         0\n",
       "hh2                         0\n",
       "hh3                         0\n",
       "hh4                         0\n",
       "hh5                         0\n",
       "hh6                         8\n",
       "hh7                         0\n",
       "child<18y_yes               0\n",
       "child<18y_no                0\n",
       "loss_empl. income_yes       0\n",
       "loss_empl. income_no        0\n",
       "loss_empl. income_na      242\n",
       "current. emp_yes            0\n",
       "current_emp_no              0\n",
       "current_emp_na            266\n",
       "inc. < $25,000              0\n",
       "inc. $25,000-$34,999        0\n",
       "inc. $35,000-$49,999        0\n",
       "inc. $50,000-$74,999        0\n",
       "inc. $75,000 -$99,999       0\n",
       "inc. $100,000 $149,999      0\n",
       "inc. $150,000-$199,999      0\n",
       "inc. $200,000_higher        0\n",
       "inc_na                      0\n",
       "dtype: int64"
      ]
     },
     "execution_count": 59,
     "metadata": {},
     "output_type": "execute_result"
    }
   ],
   "source": [
    "df_mha.isnull().sum()"
   ]
  },
  {
   "cell_type": "code",
   "execution_count": 60,
   "id": "f730b2bc",
   "metadata": {},
   "outputs": [
    {
     "data": {
      "text/plain": [
       "18892.5"
      ]
     },
     "execution_count": 60,
     "metadata": {},
     "output_type": "execute_result"
    }
   ],
   "source": [
    "df_mha['martial_status_na'].median()"
   ]
  },
  {
   "cell_type": "code",
   "execution_count": 61,
   "id": "1312ffb6",
   "metadata": {},
   "outputs": [],
   "source": [
    "df_mha['martial_status_na'].fillna(18892, inplace=True)"
   ]
  },
  {
   "cell_type": "code",
   "execution_count": 62,
   "id": "5a5b4fe6",
   "metadata": {},
   "outputs": [
    {
     "data": {
      "text/plain": [
       "13817.5"
      ]
     },
     "execution_count": 62,
     "metadata": {},
     "output_type": "execute_result"
    }
   ],
   "source": [
    "df_mha['loss_empl. income_na'].median()"
   ]
  },
  {
   "cell_type": "code",
   "execution_count": 63,
   "id": "bf865707",
   "metadata": {},
   "outputs": [],
   "source": [
    "df_mha['loss_empl. income_na'].fillna(13187, inplace=True)"
   ]
  },
  {
   "cell_type": "code",
   "execution_count": 64,
   "id": "4dab39af",
   "metadata": {},
   "outputs": [
    {
     "data": {
      "text/plain": [
       "15084.0"
      ]
     },
     "execution_count": 64,
     "metadata": {},
     "output_type": "execute_result"
    }
   ],
   "source": [
    "df_mha['current_emp_na'].median()"
   ]
  },
  {
   "cell_type": "code",
   "execution_count": 65,
   "id": "c9b19730",
   "metadata": {},
   "outputs": [],
   "source": [
    "df_mha['current_emp_na'].fillna(15084, inplace=True)"
   ]
  },
  {
   "cell_type": "code",
   "execution_count": 66,
   "id": "a064eba3",
   "metadata": {},
   "outputs": [
    {
     "data": {
      "text/plain": [
       "question                  0\n",
       "period                    0\n",
       "city                      0\n",
       "total                     0\n",
       "male                      0\n",
       "female                    0\n",
       "age18-29                  0\n",
       "age30-39                  0\n",
       "age40-49                  0\n",
       "age50-59                  0\n",
       "age60-69                  0\n",
       "age70-79                  0\n",
       "age>80                    0\n",
       "hispanic_latin            0\n",
       "white                     0\n",
       "black                     0\n",
       "asian                     0\n",
       "other_races               0\n",
       "married                   0\n",
       "widowed                   0\n",
       "divorced_separated        0\n",
       "never_married             0\n",
       "martial_status_na         0\n",
       "hh1                       0\n",
       "hh2                       0\n",
       "hh3                       0\n",
       "hh4                       0\n",
       "hh5                       0\n",
       "hh6                       8\n",
       "hh7                       0\n",
       "child<18y_yes             0\n",
       "child<18y_no              0\n",
       "loss_empl. income_yes     0\n",
       "loss_empl. income_no      0\n",
       "loss_empl. income_na      0\n",
       "current. emp_yes          0\n",
       "current_emp_no            0\n",
       "current_emp_na            0\n",
       "inc. < $25,000            0\n",
       "inc. $25,000-$34,999      0\n",
       "inc. $35,000-$49,999      0\n",
       "inc. $50,000-$74,999      0\n",
       "inc. $75,000 -$99,999     0\n",
       "inc. $100,000 $149,999    0\n",
       "inc. $150,000-$199,999    0\n",
       "inc. $200,000_higher      0\n",
       "inc_na                    0\n",
       "dtype: int64"
      ]
     },
     "execution_count": 66,
     "metadata": {},
     "output_type": "execute_result"
    }
   ],
   "source": [
    "# checking data consistency for df_mha\n",
    "df_mha.isnull().sum()"
   ]
  },
  {
   "cell_type": "code",
   "execution_count": 67,
   "id": "d24ccf86",
   "metadata": {},
   "outputs": [],
   "source": [
    "# checking duplicates df_mha\n",
    "df_mha_dups = df_mha[df_mha.duplicated()]"
   ]
  },
  {
   "cell_type": "code",
   "execution_count": 68,
   "id": "5b88774d",
   "metadata": {},
   "outputs": [
    {
     "data": {
      "text/html": [
       "<div>\n",
       "<style scoped>\n",
       "    .dataframe tbody tr th:only-of-type {\n",
       "        vertical-align: middle;\n",
       "    }\n",
       "\n",
       "    .dataframe tbody tr th {\n",
       "        vertical-align: top;\n",
       "    }\n",
       "\n",
       "    .dataframe thead th {\n",
       "        text-align: right;\n",
       "    }\n",
       "</style>\n",
       "<table border=\"1\" class=\"dataframe\">\n",
       "  <thead>\n",
       "    <tr style=\"text-align: right;\">\n",
       "      <th></th>\n",
       "      <th>question</th>\n",
       "      <th>period</th>\n",
       "      <th>city</th>\n",
       "      <th>total</th>\n",
       "      <th>male</th>\n",
       "      <th>female</th>\n",
       "      <th>age18-29</th>\n",
       "      <th>age30-39</th>\n",
       "      <th>age40-49</th>\n",
       "      <th>age50-59</th>\n",
       "      <th>...</th>\n",
       "      <th>current_emp_na</th>\n",
       "      <th>inc. &lt; $25,000</th>\n",
       "      <th>inc. $25,000-$34,999</th>\n",
       "      <th>inc. $35,000-$49,999</th>\n",
       "      <th>inc. $50,000-$74,999</th>\n",
       "      <th>inc. $75,000 -$99,999</th>\n",
       "      <th>inc. $100,000 $149,999</th>\n",
       "      <th>inc. $150,000-$199,999</th>\n",
       "      <th>inc. $200,000_higher</th>\n",
       "      <th>inc_na</th>\n",
       "    </tr>\n",
       "  </thead>\n",
       "  <tbody>\n",
       "  </tbody>\n",
       "</table>\n",
       "<p>0 rows × 47 columns</p>\n",
       "</div>"
      ],
      "text/plain": [
       "Empty DataFrame\n",
       "Columns: [question, period, city, total, male, female, age18-29, age30-39, age40-49, age50-59, age60-69, age70-79, age>80, hispanic_latin, white, black, asian, other_races, married, widowed, divorced_separated, never_married, martial_status_na, hh1, hh2, hh3, hh4, hh5, hh6, hh7, child<18y_yes, child<18y_no, loss_empl. income_yes, loss_empl. income_no, loss_empl. income_na, current. emp_yes, current_emp_no, current_emp_na, inc. < $25,000, inc. $25,000-$34,999, inc. $35,000-$49,999, inc. $50,000-$74,999, inc. $75,000 -$99,999, inc. $100,000 $149,999, inc. $150,000-$199,999, inc. $200,000_higher, inc_na]\n",
       "Index: []\n",
       "\n",
       "[0 rows x 47 columns]"
      ]
     },
     "execution_count": 68,
     "metadata": {},
     "output_type": "execute_result"
    }
   ],
   "source": [
    "df_mha_dups"
   ]
  },
  {
   "cell_type": "markdown",
   "id": "d477bf9b",
   "metadata": {},
   "source": [
    "#### no duplicates were found"
   ]
  },
  {
   "cell_type": "code",
   "execution_count": 69,
   "id": "9a5fef32",
   "metadata": {},
   "outputs": [],
   "source": [
    "# checking for possible mixed data types\n",
    "for col in df_mha.columns.tolist():\n",
    "      weird = (df_mha[[col]].applymap(type) != df_mha[[col]].iloc[0].apply(type)).any(axis = 1)\n",
    "      if len (df_mha[weird]) > 0:\n",
    "        print (col)"
   ]
  },
  {
   "cell_type": "markdown",
   "id": "1a565496",
   "metadata": {},
   "source": [
    "#### no mixed data types were found"
   ]
  },
  {
   "cell_type": "code",
   "execution_count": 78,
   "id": "3b81be76",
   "metadata": {},
   "outputs": [
    {
     "data": {
      "text/plain": [
       "Index(['question', 'period', 'city', 'total', 'male', 'female', 'age18-29',\n",
       "       'age30-39', 'age40-49', 'age50-59', 'age60-69', 'age70-79', 'age>80',\n",
       "       'hispanic_latin', 'white', 'black', 'asian', 'other_races', 'married',\n",
       "       'widowed', 'divorced_separated', 'never_married', 'martial_status_na',\n",
       "       'hh1', 'hh2', 'hh3', 'hh4', 'hh5', 'hh6', 'hh7', 'child<18y_yes',\n",
       "       'child<18y_no', 'loss_empl. income_yes', 'loss_empl. income_no',\n",
       "       'loss_empl. income_na', 'current. emp_yes', 'current_emp_no',\n",
       "       'current_emp_na', 'inc. < $25,000', 'inc. $25,000-$34,999',\n",
       "       'inc. $35,000-$49,999', 'inc. $50,000-$74,999', 'inc. $75,000 -$99,999',\n",
       "       'inc. $100,000 $149,999', 'inc. $150,000-$199,999',\n",
       "       'inc. $200,000_higher', 'inc_na'],\n",
       "      dtype='object')"
      ]
     },
     "execution_count": 78,
     "metadata": {},
     "output_type": "execute_result"
    }
   ],
   "source": [
    "# checking columns names for typos\n",
    "df_mha.columns"
   ]
  },
  {
   "cell_type": "code",
   "execution_count": 80,
   "id": "f42e20b6",
   "metadata": {},
   "outputs": [],
   "source": [
    "df_mha.rename(columns = {'martial_status_na': 'marital_status_na', 'current_emp_no': 'current. emp_no', 'current_emp_na' : 'current. emp_na'}, inplace = True)"
   ]
  },
  {
   "cell_type": "code",
   "execution_count": null,
   "id": "c791b58c",
   "metadata": {},
   "outputs": [],
   "source": [
    "# saving cleaned data \n",
    "df_mha.to_excel(os.path.join(path, '02. - MHA Data', 'Prepared Data', 'Health4_3.1_US Metro Cities_cleaned.xlsx'))"
   ]
  },
  {
   "cell_type": "markdown",
   "id": "a38dc6e6",
   "metadata": {},
   "source": [
    "#### 2. Exploring relationships and correlations"
   ]
  },
  {
   "cell_type": "code",
   "execution_count": 72,
   "id": "3570bb06",
   "metadata": {},
   "outputs": [],
   "source": [
    "# importing libraries\n",
    "import matplotlib.pyplot as plt\n",
    "import seaborn as sns\n",
    "import scipy\n",
    "import matplotlib"
   ]
  },
  {
   "cell_type": "code",
   "execution_count": 88,
   "id": "7c326a87",
   "metadata": {},
   "outputs": [
    {
     "data": {
      "text/html": [
       "<div>\n",
       "<style scoped>\n",
       "    .dataframe tbody tr th:only-of-type {\n",
       "        vertical-align: middle;\n",
       "    }\n",
       "\n",
       "    .dataframe tbody tr th {\n",
       "        vertical-align: top;\n",
       "    }\n",
       "\n",
       "    .dataframe thead th {\n",
       "        text-align: right;\n",
       "    }\n",
       "</style>\n",
       "<table border=\"1\" class=\"dataframe\">\n",
       "  <thead>\n",
       "    <tr style=\"text-align: right;\">\n",
       "      <th></th>\n",
       "      <th>total</th>\n",
       "      <th>male</th>\n",
       "      <th>female</th>\n",
       "      <th>age18-29</th>\n",
       "      <th>age30-39</th>\n",
       "      <th>age40-49</th>\n",
       "      <th>age50-59</th>\n",
       "      <th>age60-69</th>\n",
       "      <th>age70-79</th>\n",
       "      <th>age&gt;80</th>\n",
       "      <th>...</th>\n",
       "      <th>current. emp_na</th>\n",
       "      <th>inc. &lt; $25,000</th>\n",
       "      <th>inc. $25,000-$34,999</th>\n",
       "      <th>inc. $35,000-$49,999</th>\n",
       "      <th>inc. $50,000-$74,999</th>\n",
       "      <th>inc. $75,000 -$99,999</th>\n",
       "      <th>inc. $100,000 $149,999</th>\n",
       "      <th>inc. $150,000-$199,999</th>\n",
       "      <th>inc. $200,000_higher</th>\n",
       "      <th>inc_na</th>\n",
       "    </tr>\n",
       "  </thead>\n",
       "  <tbody>\n",
       "    <tr>\n",
       "      <th>count</th>\n",
       "      <td>8.100000e+02</td>\n",
       "      <td>8.100000e+02</td>\n",
       "      <td>8.100000e+02</td>\n",
       "      <td>8.100000e+02</td>\n",
       "      <td>8.100000e+02</td>\n",
       "      <td>8.100000e+02</td>\n",
       "      <td>8.100000e+02</td>\n",
       "      <td>8.100000e+02</td>\n",
       "      <td>8.100000e+02</td>\n",
       "      <td>810.000000</td>\n",
       "      <td>...</td>\n",
       "      <td>810.000000</td>\n",
       "      <td>8.100000e+02</td>\n",
       "      <td>810.000000</td>\n",
       "      <td>8.100000e+02</td>\n",
       "      <td>8.100000e+02</td>\n",
       "      <td>8.100000e+02</td>\n",
       "      <td>8.100000e+02</td>\n",
       "      <td>810.000000</td>\n",
       "      <td>8.100000e+02</td>\n",
       "      <td>8.100000e+02</td>\n",
       "    </tr>\n",
       "    <tr>\n",
       "      <th>mean</th>\n",
       "      <td>1.874716e+06</td>\n",
       "      <td>9.258019e+05</td>\n",
       "      <td>9.489142e+05</td>\n",
       "      <td>3.309407e+05</td>\n",
       "      <td>3.582648e+05</td>\n",
       "      <td>3.299927e+05</td>\n",
       "      <td>3.337394e+05</td>\n",
       "      <td>3.038194e+05</td>\n",
       "      <td>1.673646e+05</td>\n",
       "      <td>51908.751605</td>\n",
       "      <td>...</td>\n",
       "      <td>21798.020988</td>\n",
       "      <td>1.769076e+05</td>\n",
       "      <td>146315.401235</td>\n",
       "      <td>1.515117e+05</td>\n",
       "      <td>2.095462e+05</td>\n",
       "      <td>1.686328e+05</td>\n",
       "      <td>2.198448e+05</td>\n",
       "      <td>121094.741975</td>\n",
       "      <td>1.553083e+05</td>\n",
       "      <td>6.767678e+05</td>\n",
       "    </tr>\n",
       "    <tr>\n",
       "      <th>std</th>\n",
       "      <td>1.668594e+06</td>\n",
       "      <td>8.501698e+05</td>\n",
       "      <td>8.287031e+05</td>\n",
       "      <td>2.589550e+05</td>\n",
       "      <td>3.220078e+05</td>\n",
       "      <td>3.031892e+05</td>\n",
       "      <td>3.291366e+05</td>\n",
       "      <td>3.014380e+05</td>\n",
       "      <td>1.847827e+05</td>\n",
       "      <td>62139.387290</td>\n",
       "      <td>...</td>\n",
       "      <td>24880.917692</td>\n",
       "      <td>2.003455e+05</td>\n",
       "      <td>169672.159243</td>\n",
       "      <td>1.840197e+05</td>\n",
       "      <td>2.348926e+05</td>\n",
       "      <td>1.904304e+05</td>\n",
       "      <td>2.688616e+05</td>\n",
       "      <td>142534.599020</td>\n",
       "      <td>2.118761e+05</td>\n",
       "      <td>8.778174e+05</td>\n",
       "    </tr>\n",
       "    <tr>\n",
       "      <th>min</th>\n",
       "      <td>1.695030e+05</td>\n",
       "      <td>3.994100e+04</td>\n",
       "      <td>8.995800e+04</td>\n",
       "      <td>6.430000e+03</td>\n",
       "      <td>1.550900e+04</td>\n",
       "      <td>1.607100e+04</td>\n",
       "      <td>1.575900e+04</td>\n",
       "      <td>7.063000e+03</td>\n",
       "      <td>1.820000e+02</td>\n",
       "      <td>270.000000</td>\n",
       "      <td>...</td>\n",
       "      <td>352.000000</td>\n",
       "      <td>2.640000e+02</td>\n",
       "      <td>99.000000</td>\n",
       "      <td>5.400000e+01</td>\n",
       "      <td>1.320000e+02</td>\n",
       "      <td>1.710000e+02</td>\n",
       "      <td>1.680000e+02</td>\n",
       "      <td>200.000000</td>\n",
       "      <td>2.040000e+02</td>\n",
       "      <td>2.934000e+03</td>\n",
       "    </tr>\n",
       "    <tr>\n",
       "      <th>25%</th>\n",
       "      <td>6.253928e+05</td>\n",
       "      <td>2.425325e+05</td>\n",
       "      <td>3.529580e+05</td>\n",
       "      <td>1.234720e+05</td>\n",
       "      <td>1.327152e+05</td>\n",
       "      <td>1.114770e+05</td>\n",
       "      <td>1.018488e+05</td>\n",
       "      <td>8.765300e+04</td>\n",
       "      <td>4.015900e+04</td>\n",
       "      <td>9189.500000</td>\n",
       "      <td>...</td>\n",
       "      <td>7998.000000</td>\n",
       "      <td>5.380275e+04</td>\n",
       "      <td>35818.750000</td>\n",
       "      <td>3.578175e+04</td>\n",
       "      <td>5.063475e+04</td>\n",
       "      <td>4.024850e+04</td>\n",
       "      <td>4.979475e+04</td>\n",
       "      <td>27966.750000</td>\n",
       "      <td>1.883825e+04</td>\n",
       "      <td>6.274500e+04</td>\n",
       "    </tr>\n",
       "    <tr>\n",
       "      <th>50%</th>\n",
       "      <td>1.367688e+06</td>\n",
       "      <td>6.667545e+05</td>\n",
       "      <td>6.741365e+05</td>\n",
       "      <td>2.791220e+05</td>\n",
       "      <td>2.596020e+05</td>\n",
       "      <td>2.316520e+05</td>\n",
       "      <td>2.195670e+05</td>\n",
       "      <td>1.891525e+05</td>\n",
       "      <td>8.804650e+04</td>\n",
       "      <td>27912.000000</td>\n",
       "      <td>...</td>\n",
       "      <td>15084.000000</td>\n",
       "      <td>1.096080e+05</td>\n",
       "      <td>84001.000000</td>\n",
       "      <td>8.208200e+04</td>\n",
       "      <td>1.072400e+05</td>\n",
       "      <td>8.866400e+04</td>\n",
       "      <td>8.866400e+04</td>\n",
       "      <td>64950.000000</td>\n",
       "      <td>6.953700e+04</td>\n",
       "      <td>3.098560e+05</td>\n",
       "    </tr>\n",
       "    <tr>\n",
       "      <th>75%</th>\n",
       "      <td>2.651472e+06</td>\n",
       "      <td>1.337848e+06</td>\n",
       "      <td>1.309033e+06</td>\n",
       "      <td>4.457720e+05</td>\n",
       "      <td>4.746162e+05</td>\n",
       "      <td>4.518408e+05</td>\n",
       "      <td>4.609125e+05</td>\n",
       "      <td>4.667138e+05</td>\n",
       "      <td>2.634630e+05</td>\n",
       "      <td>71646.500000</td>\n",
       "      <td>...</td>\n",
       "      <td>24607.000000</td>\n",
       "      <td>2.286420e+05</td>\n",
       "      <td>187447.500000</td>\n",
       "      <td>2.094110e+05</td>\n",
       "      <td>3.236635e+05</td>\n",
       "      <td>2.730175e+05</td>\n",
       "      <td>3.595312e+05</td>\n",
       "      <td>176210.000000</td>\n",
       "      <td>2.184028e+05</td>\n",
       "      <td>1.013578e+06</td>\n",
       "    </tr>\n",
       "    <tr>\n",
       "      <th>max</th>\n",
       "      <td>8.996654e+06</td>\n",
       "      <td>4.307107e+06</td>\n",
       "      <td>4.809332e+06</td>\n",
       "      <td>1.284104e+06</td>\n",
       "      <td>1.906539e+06</td>\n",
       "      <td>1.709946e+06</td>\n",
       "      <td>1.993305e+06</td>\n",
       "      <td>1.794867e+06</td>\n",
       "      <td>1.207655e+06</td>\n",
       "      <td>447683.000000</td>\n",
       "      <td>...</td>\n",
       "      <td>202816.000000</td>\n",
       "      <td>1.170521e+06</td>\n",
       "      <td>869589.000000</td>\n",
       "      <td>1.143407e+06</td>\n",
       "      <td>1.326160e+06</td>\n",
       "      <td>1.059750e+06</td>\n",
       "      <td>1.491733e+06</td>\n",
       "      <td>824528.000000</td>\n",
       "      <td>1.268943e+06</td>\n",
       "      <td>4.576924e+06</td>\n",
       "    </tr>\n",
       "  </tbody>\n",
       "</table>\n",
       "<p>8 rows × 44 columns</p>\n",
       "</div>"
      ],
      "text/plain": [
       "              total          male        female      age18-29      age30-39  \\\n",
       "count  8.100000e+02  8.100000e+02  8.100000e+02  8.100000e+02  8.100000e+02   \n",
       "mean   1.874716e+06  9.258019e+05  9.489142e+05  3.309407e+05  3.582648e+05   \n",
       "std    1.668594e+06  8.501698e+05  8.287031e+05  2.589550e+05  3.220078e+05   \n",
       "min    1.695030e+05  3.994100e+04  8.995800e+04  6.430000e+03  1.550900e+04   \n",
       "25%    6.253928e+05  2.425325e+05  3.529580e+05  1.234720e+05  1.327152e+05   \n",
       "50%    1.367688e+06  6.667545e+05  6.741365e+05  2.791220e+05  2.596020e+05   \n",
       "75%    2.651472e+06  1.337848e+06  1.309033e+06  4.457720e+05  4.746162e+05   \n",
       "max    8.996654e+06  4.307107e+06  4.809332e+06  1.284104e+06  1.906539e+06   \n",
       "\n",
       "           age40-49      age50-59      age60-69      age70-79         age>80  \\\n",
       "count  8.100000e+02  8.100000e+02  8.100000e+02  8.100000e+02     810.000000   \n",
       "mean   3.299927e+05  3.337394e+05  3.038194e+05  1.673646e+05   51908.751605   \n",
       "std    3.031892e+05  3.291366e+05  3.014380e+05  1.847827e+05   62139.387290   \n",
       "min    1.607100e+04  1.575900e+04  7.063000e+03  1.820000e+02     270.000000   \n",
       "25%    1.114770e+05  1.018488e+05  8.765300e+04  4.015900e+04    9189.500000   \n",
       "50%    2.316520e+05  2.195670e+05  1.891525e+05  8.804650e+04   27912.000000   \n",
       "75%    4.518408e+05  4.609125e+05  4.667138e+05  2.634630e+05   71646.500000   \n",
       "max    1.709946e+06  1.993305e+06  1.794867e+06  1.207655e+06  447683.000000   \n",
       "\n",
       "       ...  current. emp_na  inc. < $25,000  inc. $25,000-$34,999  \\\n",
       "count  ...       810.000000    8.100000e+02            810.000000   \n",
       "mean   ...     21798.020988    1.769076e+05         146315.401235   \n",
       "std    ...     24880.917692    2.003455e+05         169672.159243   \n",
       "min    ...       352.000000    2.640000e+02             99.000000   \n",
       "25%    ...      7998.000000    5.380275e+04          35818.750000   \n",
       "50%    ...     15084.000000    1.096080e+05          84001.000000   \n",
       "75%    ...     24607.000000    2.286420e+05         187447.500000   \n",
       "max    ...    202816.000000    1.170521e+06         869589.000000   \n",
       "\n",
       "       inc. $35,000-$49,999  inc. $50,000-$74,999  inc. $75,000 -$99,999  \\\n",
       "count          8.100000e+02          8.100000e+02           8.100000e+02   \n",
       "mean           1.515117e+05          2.095462e+05           1.686328e+05   \n",
       "std            1.840197e+05          2.348926e+05           1.904304e+05   \n",
       "min            5.400000e+01          1.320000e+02           1.710000e+02   \n",
       "25%            3.578175e+04          5.063475e+04           4.024850e+04   \n",
       "50%            8.208200e+04          1.072400e+05           8.866400e+04   \n",
       "75%            2.094110e+05          3.236635e+05           2.730175e+05   \n",
       "max            1.143407e+06          1.326160e+06           1.059750e+06   \n",
       "\n",
       "       inc. $100,000 $149,999  inc. $150,000-$199,999  inc. $200,000_higher  \\\n",
       "count            8.100000e+02              810.000000          8.100000e+02   \n",
       "mean             2.198448e+05           121094.741975          1.553083e+05   \n",
       "std              2.688616e+05           142534.599020          2.118761e+05   \n",
       "min              1.680000e+02              200.000000          2.040000e+02   \n",
       "25%              4.979475e+04            27966.750000          1.883825e+04   \n",
       "50%              8.866400e+04            64950.000000          6.953700e+04   \n",
       "75%              3.595312e+05           176210.000000          2.184028e+05   \n",
       "max              1.491733e+06           824528.000000          1.268943e+06   \n",
       "\n",
       "             inc_na  \n",
       "count  8.100000e+02  \n",
       "mean   6.767678e+05  \n",
       "std    8.778174e+05  \n",
       "min    2.934000e+03  \n",
       "25%    6.274500e+04  \n",
       "50%    3.098560e+05  \n",
       "75%    1.013578e+06  \n",
       "max    4.576924e+06  \n",
       "\n",
       "[8 rows x 44 columns]"
      ]
     },
     "execution_count": 88,
     "metadata": {},
     "output_type": "execute_result"
    }
   ],
   "source": [
    "df_mha.describe()"
   ]
  },
  {
   "cell_type": "markdown",
   "id": "56a158e8",
   "metadata": {},
   "source": [
    "#### Creating a subset based on ethnicities\n"
   ]
  },
  {
   "cell_type": "code",
   "execution_count": 89,
   "id": "9f6c8ff5",
   "metadata": {},
   "outputs": [],
   "source": [
    "sub_demo_social = df_mha[['total','male', 'female','hispanic_latin', 'white', 'black', 'asian', 'other_races','loss_empl. income_yes', 'loss_empl. income_no',\n",
    "       'loss_empl. income_na']]"
   ]
  },
  {
   "cell_type": "code",
   "execution_count": 90,
   "id": "38db98db",
   "metadata": {
    "scrolled": false
   },
   "outputs": [
    {
     "data": {
      "text/html": [
       "<div>\n",
       "<style scoped>\n",
       "    .dataframe tbody tr th:only-of-type {\n",
       "        vertical-align: middle;\n",
       "    }\n",
       "\n",
       "    .dataframe tbody tr th {\n",
       "        vertical-align: top;\n",
       "    }\n",
       "\n",
       "    .dataframe thead th {\n",
       "        text-align: right;\n",
       "    }\n",
       "</style>\n",
       "<table border=\"1\" class=\"dataframe\">\n",
       "  <thead>\n",
       "    <tr style=\"text-align: right;\">\n",
       "      <th></th>\n",
       "      <th>total</th>\n",
       "      <th>male</th>\n",
       "      <th>female</th>\n",
       "      <th>hispanic_latin</th>\n",
       "      <th>white</th>\n",
       "      <th>black</th>\n",
       "      <th>asian</th>\n",
       "      <th>other_races</th>\n",
       "      <th>loss_empl. income_yes</th>\n",
       "      <th>loss_empl. income_no</th>\n",
       "      <th>loss_empl. income_na</th>\n",
       "    </tr>\n",
       "  </thead>\n",
       "  <tbody>\n",
       "    <tr>\n",
       "      <th>total</th>\n",
       "      <td>1.000000</td>\n",
       "      <td>0.994032</td>\n",
       "      <td>0.993718</td>\n",
       "      <td>0.829675</td>\n",
       "      <td>0.920444</td>\n",
       "      <td>0.784489</td>\n",
       "      <td>0.850632</td>\n",
       "      <td>0.762988</td>\n",
       "      <td>0.938903</td>\n",
       "      <td>0.994543</td>\n",
       "      <td>0.231140</td>\n",
       "    </tr>\n",
       "    <tr>\n",
       "      <th>male</th>\n",
       "      <td>0.994032</td>\n",
       "      <td>1.000000</td>\n",
       "      <td>0.975580</td>\n",
       "      <td>0.835488</td>\n",
       "      <td>0.908048</td>\n",
       "      <td>0.775185</td>\n",
       "      <td>0.845559</td>\n",
       "      <td>0.770329</td>\n",
       "      <td>0.935580</td>\n",
       "      <td>0.987582</td>\n",
       "      <td>0.244542</td>\n",
       "    </tr>\n",
       "    <tr>\n",
       "      <th>female</th>\n",
       "      <td>0.993718</td>\n",
       "      <td>0.975580</td>\n",
       "      <td>1.000000</td>\n",
       "      <td>0.813419</td>\n",
       "      <td>0.921744</td>\n",
       "      <td>0.784303</td>\n",
       "      <td>0.845286</td>\n",
       "      <td>0.745993</td>\n",
       "      <td>0.930666</td>\n",
       "      <td>0.989349</td>\n",
       "      <td>0.214524</td>\n",
       "    </tr>\n",
       "    <tr>\n",
       "      <th>hispanic_latin</th>\n",
       "      <td>0.829675</td>\n",
       "      <td>0.835488</td>\n",
       "      <td>0.813419</td>\n",
       "      <td>1.000000</td>\n",
       "      <td>0.570838</td>\n",
       "      <td>0.468088</td>\n",
       "      <td>0.813346</td>\n",
       "      <td>0.664137</td>\n",
       "      <td>0.917582</td>\n",
       "      <td>0.783234</td>\n",
       "      <td>0.291495</td>\n",
       "    </tr>\n",
       "    <tr>\n",
       "      <th>white</th>\n",
       "      <td>0.920444</td>\n",
       "      <td>0.908048</td>\n",
       "      <td>0.921744</td>\n",
       "      <td>0.570838</td>\n",
       "      <td>1.000000</td>\n",
       "      <td>0.778052</td>\n",
       "      <td>0.677187</td>\n",
       "      <td>0.671501</td>\n",
       "      <td>0.763447</td>\n",
       "      <td>0.946487</td>\n",
       "      <td>0.108727</td>\n",
       "    </tr>\n",
       "    <tr>\n",
       "      <th>black</th>\n",
       "      <td>0.784489</td>\n",
       "      <td>0.775185</td>\n",
       "      <td>0.784303</td>\n",
       "      <td>0.468088</td>\n",
       "      <td>0.778052</td>\n",
       "      <td>1.000000</td>\n",
       "      <td>0.493016</td>\n",
       "      <td>0.455125</td>\n",
       "      <td>0.665926</td>\n",
       "      <td>0.799140</td>\n",
       "      <td>0.264011</td>\n",
       "    </tr>\n",
       "    <tr>\n",
       "      <th>asian</th>\n",
       "      <td>0.850632</td>\n",
       "      <td>0.845559</td>\n",
       "      <td>0.845286</td>\n",
       "      <td>0.813346</td>\n",
       "      <td>0.677187</td>\n",
       "      <td>0.493016</td>\n",
       "      <td>1.000000</td>\n",
       "      <td>0.751733</td>\n",
       "      <td>0.879118</td>\n",
       "      <td>0.822372</td>\n",
       "      <td>0.215997</td>\n",
       "    </tr>\n",
       "    <tr>\n",
       "      <th>other_races</th>\n",
       "      <td>0.762988</td>\n",
       "      <td>0.770329</td>\n",
       "      <td>0.745993</td>\n",
       "      <td>0.664137</td>\n",
       "      <td>0.671501</td>\n",
       "      <td>0.455125</td>\n",
       "      <td>0.751733</td>\n",
       "      <td>1.000000</td>\n",
       "      <td>0.746208</td>\n",
       "      <td>0.750957</td>\n",
       "      <td>0.121813</td>\n",
       "    </tr>\n",
       "    <tr>\n",
       "      <th>loss_empl. income_yes</th>\n",
       "      <td>0.938903</td>\n",
       "      <td>0.935580</td>\n",
       "      <td>0.930666</td>\n",
       "      <td>0.917582</td>\n",
       "      <td>0.763447</td>\n",
       "      <td>0.665926</td>\n",
       "      <td>0.879118</td>\n",
       "      <td>0.746208</td>\n",
       "      <td>1.000000</td>\n",
       "      <td>0.898377</td>\n",
       "      <td>0.276956</td>\n",
       "    </tr>\n",
       "    <tr>\n",
       "      <th>loss_empl. income_no</th>\n",
       "      <td>0.994543</td>\n",
       "      <td>0.987582</td>\n",
       "      <td>0.989349</td>\n",
       "      <td>0.783234</td>\n",
       "      <td>0.946487</td>\n",
       "      <td>0.799140</td>\n",
       "      <td>0.822372</td>\n",
       "      <td>0.750957</td>\n",
       "      <td>0.898377</td>\n",
       "      <td>1.000000</td>\n",
       "      <td>0.195812</td>\n",
       "    </tr>\n",
       "    <tr>\n",
       "      <th>loss_empl. income_na</th>\n",
       "      <td>0.231140</td>\n",
       "      <td>0.244542</td>\n",
       "      <td>0.214524</td>\n",
       "      <td>0.291495</td>\n",
       "      <td>0.108727</td>\n",
       "      <td>0.264011</td>\n",
       "      <td>0.215997</td>\n",
       "      <td>0.121813</td>\n",
       "      <td>0.276956</td>\n",
       "      <td>0.195812</td>\n",
       "      <td>1.000000</td>\n",
       "    </tr>\n",
       "  </tbody>\n",
       "</table>\n",
       "</div>"
      ],
      "text/plain": [
       "                          total      male    female  hispanic_latin     white  \\\n",
       "total                  1.000000  0.994032  0.993718        0.829675  0.920444   \n",
       "male                   0.994032  1.000000  0.975580        0.835488  0.908048   \n",
       "female                 0.993718  0.975580  1.000000        0.813419  0.921744   \n",
       "hispanic_latin         0.829675  0.835488  0.813419        1.000000  0.570838   \n",
       "white                  0.920444  0.908048  0.921744        0.570838  1.000000   \n",
       "black                  0.784489  0.775185  0.784303        0.468088  0.778052   \n",
       "asian                  0.850632  0.845559  0.845286        0.813346  0.677187   \n",
       "other_races            0.762988  0.770329  0.745993        0.664137  0.671501   \n",
       "loss_empl. income_yes  0.938903  0.935580  0.930666        0.917582  0.763447   \n",
       "loss_empl. income_no   0.994543  0.987582  0.989349        0.783234  0.946487   \n",
       "loss_empl. income_na   0.231140  0.244542  0.214524        0.291495  0.108727   \n",
       "\n",
       "                          black     asian  other_races  loss_empl. income_yes  \\\n",
       "total                  0.784489  0.850632     0.762988               0.938903   \n",
       "male                   0.775185  0.845559     0.770329               0.935580   \n",
       "female                 0.784303  0.845286     0.745993               0.930666   \n",
       "hispanic_latin         0.468088  0.813346     0.664137               0.917582   \n",
       "white                  0.778052  0.677187     0.671501               0.763447   \n",
       "black                  1.000000  0.493016     0.455125               0.665926   \n",
       "asian                  0.493016  1.000000     0.751733               0.879118   \n",
       "other_races            0.455125  0.751733     1.000000               0.746208   \n",
       "loss_empl. income_yes  0.665926  0.879118     0.746208               1.000000   \n",
       "loss_empl. income_no   0.799140  0.822372     0.750957               0.898377   \n",
       "loss_empl. income_na   0.264011  0.215997     0.121813               0.276956   \n",
       "\n",
       "                       loss_empl. income_no  loss_empl. income_na  \n",
       "total                              0.994543              0.231140  \n",
       "male                               0.987582              0.244542  \n",
       "female                             0.989349              0.214524  \n",
       "hispanic_latin                     0.783234              0.291495  \n",
       "white                              0.946487              0.108727  \n",
       "black                              0.799140              0.264011  \n",
       "asian                              0.822372              0.215997  \n",
       "other_races                        0.750957              0.121813  \n",
       "loss_empl. income_yes              0.898377              0.276956  \n",
       "loss_empl. income_no               1.000000              0.195812  \n",
       "loss_empl. income_na               0.195812              1.000000  "
      ]
     },
     "execution_count": 90,
     "metadata": {},
     "output_type": "execute_result"
    }
   ],
   "source": [
    "# creating a correlation \n",
    "sub_demo_social.corr()"
   ]
  },
  {
   "cell_type": "code",
   "execution_count": 92,
   "id": "8becbf55",
   "metadata": {},
   "outputs": [
    {
     "data": {
      "text/plain": [
       "<Figure size 5760x5760 with 0 Axes>"
      ]
     },
     "metadata": {},
     "output_type": "display_data"
    },
    {
     "data": {
      "image/png": "[encoded data removed]",
      "text/plain": [
       "<Figure size 288x288 with 1 Axes>"
      ]
     },
     "metadata": {
      "needs_background": "light"
     },
     "output_type": "display_data"
    }
   ],
   "source": [
    "# create a correlation heath map subset demo_social\n",
    "plt.figure(figsize=(80,80))\n",
    "plt.show()\n",
    "plt.matshow(sub_demo_social.corr())\n",
    "plt.show()"
   ]
  },
  {
   "cell_type": "code",
   "execution_count": 93,
   "id": "bb5b4ada",
   "metadata": {},
   "outputs": [
    {
     "data": {
      "text/plain": [
       "Text(0.5, 1.0, 'Correlation Matrix')"
      ]
     },
     "execution_count": 93,
     "metadata": {},
     "output_type": "execute_result"
    },
    {
     "data": {
      "image/png": "[encoded data removed]",
      "text/plain": [
       "<Figure size 576x576 with 2 Axes>"
      ]
     },
     "metadata": {
      "needs_background": "light"
     },
     "output_type": "display_data"
    }
   ],
   "source": [
    "# define the correlation heat map subset demo_social\n",
    "f = plt.figure(figsize=(8, 8)) # figure size \n",
    "plt.matshow(sub_demo_social.corr(), fignum=f.number) # type of plot\n",
    "plt.xticks(range(sub_demo_social.shape[1]), sub_demo_social.columns, fontsize=10, rotation=45) # x axis labels\n",
    "plt.yticks(range(sub_demo_social.shape[1]), sub_demo_social.columns, fontsize=10) # y axis labels\n",
    "cb = plt.colorbar() # add a colour legend (called colorbar)\n",
    "cb.ax.tick_params(labelsize=10) # add font size\n",
    "plt.title('Correlation Matrix', fontsize=12) # add title"
   ]
  },
  {
   "cell_type": "code",
   "execution_count": 94,
   "id": "6c71a99b",
   "metadata": {},
   "outputs": [
    {
     "data": {
      "image/png": "[encoded data removed]",
      "text/plain": [
       "<Figure size 720x720 with 1 Axes>"
      ]
     },
     "metadata": {
      "needs_background": "light"
     },
     "output_type": "display_data"
    }
   ],
   "source": [
    "# Create an emtpty subplot with matplotlib \n",
    "\n",
    "f,ax = plt.subplots(figsize=(10,10))"
   ]
  },
  {
   "cell_type": "code",
   "execution_count": 96,
   "id": "21d72d53",
   "metadata": {},
   "outputs": [],
   "source": [
    "# Create the correlation heatmap in seaborn by applying a heatmap onto the correlation matrix and the subplots defined above.\n",
    "\n",
    "sub_demo_social.corr = sns.heatmap(sub_demo_social.corr(), annot = True, ax = ax) \n",
    "\n",
    "# The `annot` argument allows the plot to place the correlation coefficients onto the heatmap."
   ]
  },
  {
   "cell_type": "code",
   "execution_count": 97,
   "id": "5ce723fe",
   "metadata": {},
   "outputs": [
    {
     "data": {
      "image/png": "[encoded data removed]",
      "text/plain": [
       "<Figure size 720x720 with 2 Axes>"
      ]
     },
     "execution_count": 97,
     "metadata": {},
     "output_type": "execute_result"
    }
   ],
   "source": [
    "# heatmap into the correlation figure\n",
    "sub_demo_social.corr.figure"
   ]
  },
  {
   "cell_type": "markdown",
   "id": "2ad9a5b8",
   "metadata": {},
   "source": [
    "##### hispanic_latin and asian do have a strong correlation with the loss of employment income\n"
   ]
  },
  {
   "cell_type": "code",
   "execution_count": 117,
   "id": "b7a7767f",
   "metadata": {},
   "outputs": [],
   "source": [
    "sub_demo_social.corr.figure.savefig(os.path.join(path,'05. - MHA Visualisation', 'correlation heat map_sub demo social.png'))"
   ]
  },
  {
   "cell_type": "code",
   "execution_count": 119,
   "id": "27fdc628",
   "metadata": {},
   "outputs": [
    {
     "data": {
      "text/plain": [
       "<seaborn.axisgrid.FacetGrid at 0x2b9c5710490>"
      ]
     },
     "execution_count": 119,
     "metadata": {},
     "output_type": "execute_result"
    },
    {
     "data": {
      "image/png": "[encoded data removed]",
      "text/plain": [
       "<Figure size 360x360 with 1 Axes>"
      ]
     },
     "metadata": {
      "needs_background": "light"
     },
     "output_type": "display_data"
    }
   ],
   "source": [
    "# creating a scatterplot for 'number_of_reviews' and 'reviews_per_month'\n",
    "sns.lmplot(x = 'hispanic_latin', y = 'loss_empl. income_yes', data = sub_demo_social)"
   ]
  },
  {
   "cell_type": "markdown",
   "id": "ab16c0dd",
   "metadata": {},
   "source": [
    "#### Creating a subset based on income"
   ]
  },
  {
   "cell_type": "code",
   "execution_count": 106,
   "id": "571ba999",
   "metadata": {},
   "outputs": [],
   "source": [
    "sub_demo_income = df_mha[['male', 'female','hispanic_latin', 'white', 'black', 'asian', 'other_races','inc. < $25,000', 'inc. $25,000-$34,999',\n",
    "       'inc. $35,000-$49,999', 'inc. $50,000-$74,999', 'inc. $75,000 -$99,999',\n",
    "       'inc. $100,000 $149,999', 'inc. $150,000-$199,999',\n",
    "       'inc. $200,000_higher', 'inc_na'\n",
    "       ]]"
   ]
  },
  {
   "cell_type": "code",
   "execution_count": 107,
   "id": "5b94651c",
   "metadata": {},
   "outputs": [
    {
     "data": {
      "text/html": [
       "<div>\n",
       "<style scoped>\n",
       "    .dataframe tbody tr th:only-of-type {\n",
       "        vertical-align: middle;\n",
       "    }\n",
       "\n",
       "    .dataframe tbody tr th {\n",
       "        vertical-align: top;\n",
       "    }\n",
       "\n",
       "    .dataframe thead th {\n",
       "        text-align: right;\n",
       "    }\n",
       "</style>\n",
       "<table border=\"1\" class=\"dataframe\">\n",
       "  <thead>\n",
       "    <tr style=\"text-align: right;\">\n",
       "      <th></th>\n",
       "      <th>male</th>\n",
       "      <th>female</th>\n",
       "      <th>hispanic_latin</th>\n",
       "      <th>white</th>\n",
       "      <th>black</th>\n",
       "      <th>asian</th>\n",
       "      <th>other_races</th>\n",
       "      <th>inc. &lt; $25,000</th>\n",
       "      <th>inc. $25,000-$34,999</th>\n",
       "      <th>inc. $35,000-$49,999</th>\n",
       "      <th>inc. $50,000-$74,999</th>\n",
       "      <th>inc. $75,000 -$99,999</th>\n",
       "      <th>inc. $100,000 $149,999</th>\n",
       "      <th>inc. $150,000-$199,999</th>\n",
       "      <th>inc. $200,000_higher</th>\n",
       "      <th>inc_na</th>\n",
       "    </tr>\n",
       "  </thead>\n",
       "  <tbody>\n",
       "    <tr>\n",
       "      <th>0</th>\n",
       "      <td>508036</td>\n",
       "      <td>605589</td>\n",
       "      <td>281797</td>\n",
       "      <td>619483</td>\n",
       "      <td>113535.0</td>\n",
       "      <td>72821.0</td>\n",
       "      <td>25989.0</td>\n",
       "      <td>116702.0</td>\n",
       "      <td>47944.0</td>\n",
       "      <td>105823.0</td>\n",
       "      <td>109510.0</td>\n",
       "      <td>89762.0</td>\n",
       "      <td>176770.0</td>\n",
       "      <td>64753.0</td>\n",
       "      <td>193055.0</td>\n",
       "      <td>209306.0</td>\n",
       "    </tr>\n",
       "    <tr>\n",
       "      <th>1</th>\n",
       "      <td>3772565</td>\n",
       "      <td>4307977</td>\n",
       "      <td>1851952</td>\n",
       "      <td>3631898</td>\n",
       "      <td>1281324.0</td>\n",
       "      <td>1122428.0</td>\n",
       "      <td>192939.0</td>\n",
       "      <td>954467.0</td>\n",
       "      <td>626743.0</td>\n",
       "      <td>890579.0</td>\n",
       "      <td>924343.0</td>\n",
       "      <td>986430.0</td>\n",
       "      <td>1264268.0</td>\n",
       "      <td>575338.0</td>\n",
       "      <td>926301.0</td>\n",
       "      <td>932072.0</td>\n",
       "    </tr>\n",
       "    <tr>\n",
       "      <th>2</th>\n",
       "      <td>2246300</td>\n",
       "      <td>1911138</td>\n",
       "      <td>1023190</td>\n",
       "      <td>1731264</td>\n",
       "      <td>864479.0</td>\n",
       "      <td>456480.0</td>\n",
       "      <td>82025.0</td>\n",
       "      <td>39682.0</td>\n",
       "      <td>6353.0</td>\n",
       "      <td>82082.0</td>\n",
       "      <td>107240.0</td>\n",
       "      <td>25224.0</td>\n",
       "      <td>88664.0</td>\n",
       "      <td>64950.0</td>\n",
       "      <td>13889.0</td>\n",
       "      <td>4072290.0</td>\n",
       "    </tr>\n",
       "    <tr>\n",
       "      <th>3</th>\n",
       "      <td>288572</td>\n",
       "      <td>526231</td>\n",
       "      <td>206439</td>\n",
       "      <td>350714</td>\n",
       "      <td>155695.0</td>\n",
       "      <td>57665.0</td>\n",
       "      <td>44289.0</td>\n",
       "      <td>213868.0</td>\n",
       "      <td>52689.0</td>\n",
       "      <td>55311.0</td>\n",
       "      <td>94916.0</td>\n",
       "      <td>63866.0</td>\n",
       "      <td>111164.0</td>\n",
       "      <td>31507.0</td>\n",
       "      <td>76405.0</td>\n",
       "      <td>115077.0</td>\n",
       "    </tr>\n",
       "    <tr>\n",
       "      <th>4</th>\n",
       "      <td>4008353</td>\n",
       "      <td>4385467</td>\n",
       "      <td>1927310</td>\n",
       "      <td>3923784</td>\n",
       "      <td>1230504.0</td>\n",
       "      <td>1137584.0</td>\n",
       "      <td>174639.0</td>\n",
       "      <td>853710.0</td>\n",
       "      <td>622573.0</td>\n",
       "      <td>941091.0</td>\n",
       "      <td>938938.0</td>\n",
       "      <td>1020978.0</td>\n",
       "      <td>1324806.0</td>\n",
       "      <td>608584.0</td>\n",
       "      <td>1056840.0</td>\n",
       "      <td>1026301.0</td>\n",
       "    </tr>\n",
       "  </tbody>\n",
       "</table>\n",
       "</div>"
      ],
      "text/plain": [
       "      male   female  hispanic_latin    white      black      asian  \\\n",
       "0   508036   605589          281797   619483   113535.0    72821.0   \n",
       "1  3772565  4307977         1851952  3631898  1281324.0  1122428.0   \n",
       "2  2246300  1911138         1023190  1731264   864479.0   456480.0   \n",
       "3   288572   526231          206439   350714   155695.0    57665.0   \n",
       "4  4008353  4385467         1927310  3923784  1230504.0  1137584.0   \n",
       "\n",
       "   other_races  inc. < $25,000  inc. $25,000-$34,999  inc. $35,000-$49,999  \\\n",
       "0      25989.0        116702.0               47944.0              105823.0   \n",
       "1     192939.0        954467.0              626743.0              890579.0   \n",
       "2      82025.0         39682.0                6353.0               82082.0   \n",
       "3      44289.0        213868.0               52689.0               55311.0   \n",
       "4     174639.0        853710.0              622573.0              941091.0   \n",
       "\n",
       "   inc. $50,000-$74,999  inc. $75,000 -$99,999  inc. $100,000 $149,999  \\\n",
       "0              109510.0                89762.0                176770.0   \n",
       "1              924343.0               986430.0               1264268.0   \n",
       "2              107240.0                25224.0                 88664.0   \n",
       "3               94916.0                63866.0                111164.0   \n",
       "4              938938.0              1020978.0               1324806.0   \n",
       "\n",
       "   inc. $150,000-$199,999  inc. $200,000_higher     inc_na  \n",
       "0                 64753.0              193055.0   209306.0  \n",
       "1                575338.0              926301.0   932072.0  \n",
       "2                 64950.0               13889.0  4072290.0  \n",
       "3                 31507.0               76405.0   115077.0  \n",
       "4                608584.0             1056840.0  1026301.0  "
      ]
     },
     "execution_count": 107,
     "metadata": {},
     "output_type": "execute_result"
    }
   ],
   "source": [
    "sub_demo_income.head()"
   ]
  },
  {
   "cell_type": "code",
   "execution_count": 108,
   "id": "f2d9e37c",
   "metadata": {},
   "outputs": [
    {
     "data": {
      "text/html": [
       "<div>\n",
       "<style scoped>\n",
       "    .dataframe tbody tr th:only-of-type {\n",
       "        vertical-align: middle;\n",
       "    }\n",
       "\n",
       "    .dataframe tbody tr th {\n",
       "        vertical-align: top;\n",
       "    }\n",
       "\n",
       "    .dataframe thead th {\n",
       "        text-align: right;\n",
       "    }\n",
       "</style>\n",
       "<table border=\"1\" class=\"dataframe\">\n",
       "  <thead>\n",
       "    <tr style=\"text-align: right;\">\n",
       "      <th></th>\n",
       "      <th>male</th>\n",
       "      <th>female</th>\n",
       "      <th>hispanic_latin</th>\n",
       "      <th>white</th>\n",
       "      <th>black</th>\n",
       "      <th>asian</th>\n",
       "      <th>other_races</th>\n",
       "      <th>inc. &lt; $25,000</th>\n",
       "      <th>inc. $25,000-$34,999</th>\n",
       "      <th>inc. $35,000-$49,999</th>\n",
       "      <th>inc. $50,000-$74,999</th>\n",
       "      <th>inc. $75,000 -$99,999</th>\n",
       "      <th>inc. $100,000 $149,999</th>\n",
       "      <th>inc. $150,000-$199,999</th>\n",
       "      <th>inc. $200,000_higher</th>\n",
       "      <th>inc_na</th>\n",
       "    </tr>\n",
       "  </thead>\n",
       "  <tbody>\n",
       "    <tr>\n",
       "      <th>male</th>\n",
       "      <td>1.000000</td>\n",
       "      <td>0.975580</td>\n",
       "      <td>0.835488</td>\n",
       "      <td>0.908048</td>\n",
       "      <td>0.775185</td>\n",
       "      <td>0.845559</td>\n",
       "      <td>0.770329</td>\n",
       "      <td>0.806655</td>\n",
       "      <td>0.837216</td>\n",
       "      <td>0.847840</td>\n",
       "      <td>0.849116</td>\n",
       "      <td>0.851417</td>\n",
       "      <td>0.848363</td>\n",
       "      <td>0.844233</td>\n",
       "      <td>0.794806</td>\n",
       "      <td>0.342930</td>\n",
       "    </tr>\n",
       "    <tr>\n",
       "      <th>female</th>\n",
       "      <td>0.975580</td>\n",
       "      <td>1.000000</td>\n",
       "      <td>0.813419</td>\n",
       "      <td>0.921744</td>\n",
       "      <td>0.784303</td>\n",
       "      <td>0.845286</td>\n",
       "      <td>0.745993</td>\n",
       "      <td>0.839947</td>\n",
       "      <td>0.849259</td>\n",
       "      <td>0.880887</td>\n",
       "      <td>0.869359</td>\n",
       "      <td>0.878103</td>\n",
       "      <td>0.874630</td>\n",
       "      <td>0.869015</td>\n",
       "      <td>0.824738</td>\n",
       "      <td>0.283148</td>\n",
       "    </tr>\n",
       "    <tr>\n",
       "      <th>hispanic_latin</th>\n",
       "      <td>0.835488</td>\n",
       "      <td>0.813419</td>\n",
       "      <td>1.000000</td>\n",
       "      <td>0.570838</td>\n",
       "      <td>0.468088</td>\n",
       "      <td>0.813346</td>\n",
       "      <td>0.664137</td>\n",
       "      <td>0.721625</td>\n",
       "      <td>0.727202</td>\n",
       "      <td>0.713418</td>\n",
       "      <td>0.651609</td>\n",
       "      <td>0.618895</td>\n",
       "      <td>0.598856</td>\n",
       "      <td>0.585641</td>\n",
       "      <td>0.535533</td>\n",
       "      <td>0.413886</td>\n",
       "    </tr>\n",
       "    <tr>\n",
       "      <th>white</th>\n",
       "      <td>0.908048</td>\n",
       "      <td>0.921744</td>\n",
       "      <td>0.570838</td>\n",
       "      <td>1.000000</td>\n",
       "      <td>0.778052</td>\n",
       "      <td>0.677187</td>\n",
       "      <td>0.671501</td>\n",
       "      <td>0.751150</td>\n",
       "      <td>0.782814</td>\n",
       "      <td>0.828783</td>\n",
       "      <td>0.869196</td>\n",
       "      <td>0.892028</td>\n",
       "      <td>0.890924</td>\n",
       "      <td>0.882930</td>\n",
       "      <td>0.836065</td>\n",
       "      <td>0.153523</td>\n",
       "    </tr>\n",
       "    <tr>\n",
       "      <th>black</th>\n",
       "      <td>0.775185</td>\n",
       "      <td>0.784303</td>\n",
       "      <td>0.468088</td>\n",
       "      <td>0.778052</td>\n",
       "      <td>1.000000</td>\n",
       "      <td>0.493016</td>\n",
       "      <td>0.455125</td>\n",
       "      <td>0.601432</td>\n",
       "      <td>0.633421</td>\n",
       "      <td>0.627509</td>\n",
       "      <td>0.672871</td>\n",
       "      <td>0.673176</td>\n",
       "      <td>0.673782</td>\n",
       "      <td>0.684969</td>\n",
       "      <td>0.635635</td>\n",
       "      <td>0.293903</td>\n",
       "    </tr>\n",
       "    <tr>\n",
       "      <th>asian</th>\n",
       "      <td>0.845559</td>\n",
       "      <td>0.845286</td>\n",
       "      <td>0.813346</td>\n",
       "      <td>0.677187</td>\n",
       "      <td>0.493016</td>\n",
       "      <td>1.000000</td>\n",
       "      <td>0.751733</td>\n",
       "      <td>0.716263</td>\n",
       "      <td>0.694019</td>\n",
       "      <td>0.732596</td>\n",
       "      <td>0.658021</td>\n",
       "      <td>0.691456</td>\n",
       "      <td>0.717856</td>\n",
       "      <td>0.727784</td>\n",
       "      <td>0.734815</td>\n",
       "      <td>0.307617</td>\n",
       "    </tr>\n",
       "    <tr>\n",
       "      <th>other_races</th>\n",
       "      <td>0.770329</td>\n",
       "      <td>0.745993</td>\n",
       "      <td>0.664137</td>\n",
       "      <td>0.671501</td>\n",
       "      <td>0.455125</td>\n",
       "      <td>0.751733</td>\n",
       "      <td>1.000000</td>\n",
       "      <td>0.641465</td>\n",
       "      <td>0.671371</td>\n",
       "      <td>0.656872</td>\n",
       "      <td>0.653555</td>\n",
       "      <td>0.680615</td>\n",
       "      <td>0.683799</td>\n",
       "      <td>0.682804</td>\n",
       "      <td>0.664530</td>\n",
       "      <td>0.203726</td>\n",
       "    </tr>\n",
       "    <tr>\n",
       "      <th>inc. &lt; $25,000</th>\n",
       "      <td>0.806655</td>\n",
       "      <td>0.839947</td>\n",
       "      <td>0.721625</td>\n",
       "      <td>0.751150</td>\n",
       "      <td>0.601432</td>\n",
       "      <td>0.716263</td>\n",
       "      <td>0.641465</td>\n",
       "      <td>1.000000</td>\n",
       "      <td>0.900683</td>\n",
       "      <td>0.904704</td>\n",
       "      <td>0.894978</td>\n",
       "      <td>0.875696</td>\n",
       "      <td>0.864508</td>\n",
       "      <td>0.840156</td>\n",
       "      <td>0.767273</td>\n",
       "      <td>-0.119336</td>\n",
       "    </tr>\n",
       "    <tr>\n",
       "      <th>inc. $25,000-$34,999</th>\n",
       "      <td>0.837216</td>\n",
       "      <td>0.849259</td>\n",
       "      <td>0.727202</td>\n",
       "      <td>0.782814</td>\n",
       "      <td>0.633421</td>\n",
       "      <td>0.694019</td>\n",
       "      <td>0.671371</td>\n",
       "      <td>0.900683</td>\n",
       "      <td>1.000000</td>\n",
       "      <td>0.914174</td>\n",
       "      <td>0.920588</td>\n",
       "      <td>0.884933</td>\n",
       "      <td>0.879393</td>\n",
       "      <td>0.842436</td>\n",
       "      <td>0.774827</td>\n",
       "      <td>-0.088666</td>\n",
       "    </tr>\n",
       "    <tr>\n",
       "      <th>inc. $35,000-$49,999</th>\n",
       "      <td>0.847840</td>\n",
       "      <td>0.880887</td>\n",
       "      <td>0.713418</td>\n",
       "      <td>0.828783</td>\n",
       "      <td>0.627509</td>\n",
       "      <td>0.732596</td>\n",
       "      <td>0.656872</td>\n",
       "      <td>0.904704</td>\n",
       "      <td>0.914174</td>\n",
       "      <td>1.000000</td>\n",
       "      <td>0.920264</td>\n",
       "      <td>0.915698</td>\n",
       "      <td>0.911324</td>\n",
       "      <td>0.869230</td>\n",
       "      <td>0.810669</td>\n",
       "      <td>-0.084559</td>\n",
       "    </tr>\n",
       "    <tr>\n",
       "      <th>inc. $50,000-$74,999</th>\n",
       "      <td>0.849116</td>\n",
       "      <td>0.869359</td>\n",
       "      <td>0.651609</td>\n",
       "      <td>0.869196</td>\n",
       "      <td>0.672871</td>\n",
       "      <td>0.658021</td>\n",
       "      <td>0.653555</td>\n",
       "      <td>0.894978</td>\n",
       "      <td>0.920588</td>\n",
       "      <td>0.920264</td>\n",
       "      <td>1.000000</td>\n",
       "      <td>0.943476</td>\n",
       "      <td>0.933315</td>\n",
       "      <td>0.904200</td>\n",
       "      <td>0.827422</td>\n",
       "      <td>-0.133942</td>\n",
       "    </tr>\n",
       "    <tr>\n",
       "      <th>inc. $75,000 -$99,999</th>\n",
       "      <td>0.851417</td>\n",
       "      <td>0.878103</td>\n",
       "      <td>0.618895</td>\n",
       "      <td>0.892028</td>\n",
       "      <td>0.673176</td>\n",
       "      <td>0.691456</td>\n",
       "      <td>0.680615</td>\n",
       "      <td>0.875696</td>\n",
       "      <td>0.884933</td>\n",
       "      <td>0.915698</td>\n",
       "      <td>0.943476</td>\n",
       "      <td>1.000000</td>\n",
       "      <td>0.953086</td>\n",
       "      <td>0.920961</td>\n",
       "      <td>0.882737</td>\n",
       "      <td>-0.129109</td>\n",
       "    </tr>\n",
       "    <tr>\n",
       "      <th>inc. $100,000 $149,999</th>\n",
       "      <td>0.848363</td>\n",
       "      <td>0.874630</td>\n",
       "      <td>0.598856</td>\n",
       "      <td>0.890924</td>\n",
       "      <td>0.673782</td>\n",
       "      <td>0.717856</td>\n",
       "      <td>0.683799</td>\n",
       "      <td>0.864508</td>\n",
       "      <td>0.879393</td>\n",
       "      <td>0.911324</td>\n",
       "      <td>0.933315</td>\n",
       "      <td>0.953086</td>\n",
       "      <td>1.000000</td>\n",
       "      <td>0.950501</td>\n",
       "      <td>0.926115</td>\n",
       "      <td>-0.154628</td>\n",
       "    </tr>\n",
       "    <tr>\n",
       "      <th>inc. $150,000-$199,999</th>\n",
       "      <td>0.844233</td>\n",
       "      <td>0.869015</td>\n",
       "      <td>0.585641</td>\n",
       "      <td>0.882930</td>\n",
       "      <td>0.684969</td>\n",
       "      <td>0.727784</td>\n",
       "      <td>0.682804</td>\n",
       "      <td>0.840156</td>\n",
       "      <td>0.842436</td>\n",
       "      <td>0.869230</td>\n",
       "      <td>0.904200</td>\n",
       "      <td>0.920961</td>\n",
       "      <td>0.950501</td>\n",
       "      <td>1.000000</td>\n",
       "      <td>0.931877</td>\n",
       "      <td>-0.106799</td>\n",
       "    </tr>\n",
       "    <tr>\n",
       "      <th>inc. $200,000_higher</th>\n",
       "      <td>0.794806</td>\n",
       "      <td>0.824738</td>\n",
       "      <td>0.535533</td>\n",
       "      <td>0.836065</td>\n",
       "      <td>0.635635</td>\n",
       "      <td>0.734815</td>\n",
       "      <td>0.664530</td>\n",
       "      <td>0.767273</td>\n",
       "      <td>0.774827</td>\n",
       "      <td>0.810669</td>\n",
       "      <td>0.827422</td>\n",
       "      <td>0.882737</td>\n",
       "      <td>0.926115</td>\n",
       "      <td>0.931877</td>\n",
       "      <td>1.000000</td>\n",
       "      <td>-0.127184</td>\n",
       "    </tr>\n",
       "    <tr>\n",
       "      <th>inc_na</th>\n",
       "      <td>0.342930</td>\n",
       "      <td>0.283148</td>\n",
       "      <td>0.413886</td>\n",
       "      <td>0.153523</td>\n",
       "      <td>0.293903</td>\n",
       "      <td>0.307617</td>\n",
       "      <td>0.203726</td>\n",
       "      <td>-0.119336</td>\n",
       "      <td>-0.088666</td>\n",
       "      <td>-0.084559</td>\n",
       "      <td>-0.133942</td>\n",
       "      <td>-0.129109</td>\n",
       "      <td>-0.154628</td>\n",
       "      <td>-0.106799</td>\n",
       "      <td>-0.127184</td>\n",
       "      <td>1.000000</td>\n",
       "    </tr>\n",
       "  </tbody>\n",
       "</table>\n",
       "</div>"
      ],
      "text/plain": [
       "                            male    female  hispanic_latin     white  \\\n",
       "male                    1.000000  0.975580        0.835488  0.908048   \n",
       "female                  0.975580  1.000000        0.813419  0.921744   \n",
       "hispanic_latin          0.835488  0.813419        1.000000  0.570838   \n",
       "white                   0.908048  0.921744        0.570838  1.000000   \n",
       "black                   0.775185  0.784303        0.468088  0.778052   \n",
       "asian                   0.845559  0.845286        0.813346  0.677187   \n",
       "other_races             0.770329  0.745993        0.664137  0.671501   \n",
       "inc. < $25,000          0.806655  0.839947        0.721625  0.751150   \n",
       "inc. $25,000-$34,999    0.837216  0.849259        0.727202  0.782814   \n",
       "inc. $35,000-$49,999    0.847840  0.880887        0.713418  0.828783   \n",
       "inc. $50,000-$74,999    0.849116  0.869359        0.651609  0.869196   \n",
       "inc. $75,000 -$99,999   0.851417  0.878103        0.618895  0.892028   \n",
       "inc. $100,000 $149,999  0.848363  0.874630        0.598856  0.890924   \n",
       "inc. $150,000-$199,999  0.844233  0.869015        0.585641  0.882930   \n",
       "inc. $200,000_higher    0.794806  0.824738        0.535533  0.836065   \n",
       "inc_na                  0.342930  0.283148        0.413886  0.153523   \n",
       "\n",
       "                           black     asian  other_races  inc. < $25,000  \\\n",
       "male                    0.775185  0.845559     0.770329        0.806655   \n",
       "female                  0.784303  0.845286     0.745993        0.839947   \n",
       "hispanic_latin          0.468088  0.813346     0.664137        0.721625   \n",
       "white                   0.778052  0.677187     0.671501        0.751150   \n",
       "black                   1.000000  0.493016     0.455125        0.601432   \n",
       "asian                   0.493016  1.000000     0.751733        0.716263   \n",
       "other_races             0.455125  0.751733     1.000000        0.641465   \n",
       "inc. < $25,000          0.601432  0.716263     0.641465        1.000000   \n",
       "inc. $25,000-$34,999    0.633421  0.694019     0.671371        0.900683   \n",
       "inc. $35,000-$49,999    0.627509  0.732596     0.656872        0.904704   \n",
       "inc. $50,000-$74,999    0.672871  0.658021     0.653555        0.894978   \n",
       "inc. $75,000 -$99,999   0.673176  0.691456     0.680615        0.875696   \n",
       "inc. $100,000 $149,999  0.673782  0.717856     0.683799        0.864508   \n",
       "inc. $150,000-$199,999  0.684969  0.727784     0.682804        0.840156   \n",
       "inc. $200,000_higher    0.635635  0.734815     0.664530        0.767273   \n",
       "inc_na                  0.293903  0.307617     0.203726       -0.119336   \n",
       "\n",
       "                        inc. $25,000-$34,999  inc. $35,000-$49,999  \\\n",
       "male                                0.837216              0.847840   \n",
       "female                              0.849259              0.880887   \n",
       "hispanic_latin                      0.727202              0.713418   \n",
       "white                               0.782814              0.828783   \n",
       "black                               0.633421              0.627509   \n",
       "asian                               0.694019              0.732596   \n",
       "other_races                         0.671371              0.656872   \n",
       "inc. < $25,000                      0.900683              0.904704   \n",
       "inc. $25,000-$34,999                1.000000              0.914174   \n",
       "inc. $35,000-$49,999                0.914174              1.000000   \n",
       "inc. $50,000-$74,999                0.920588              0.920264   \n",
       "inc. $75,000 -$99,999               0.884933              0.915698   \n",
       "inc. $100,000 $149,999              0.879393              0.911324   \n",
       "inc. $150,000-$199,999              0.842436              0.869230   \n",
       "inc. $200,000_higher                0.774827              0.810669   \n",
       "inc_na                             -0.088666             -0.084559   \n",
       "\n",
       "                        inc. $50,000-$74,999  inc. $75,000 -$99,999  \\\n",
       "male                                0.849116               0.851417   \n",
       "female                              0.869359               0.878103   \n",
       "hispanic_latin                      0.651609               0.618895   \n",
       "white                               0.869196               0.892028   \n",
       "black                               0.672871               0.673176   \n",
       "asian                               0.658021               0.691456   \n",
       "other_races                         0.653555               0.680615   \n",
       "inc. < $25,000                      0.894978               0.875696   \n",
       "inc. $25,000-$34,999                0.920588               0.884933   \n",
       "inc. $35,000-$49,999                0.920264               0.915698   \n",
       "inc. $50,000-$74,999                1.000000               0.943476   \n",
       "inc. $75,000 -$99,999               0.943476               1.000000   \n",
       "inc. $100,000 $149,999              0.933315               0.953086   \n",
       "inc. $150,000-$199,999              0.904200               0.920961   \n",
       "inc. $200,000_higher                0.827422               0.882737   \n",
       "inc_na                             -0.133942              -0.129109   \n",
       "\n",
       "                        inc. $100,000 $149,999  inc. $150,000-$199,999  \\\n",
       "male                                  0.848363                0.844233   \n",
       "female                                0.874630                0.869015   \n",
       "hispanic_latin                        0.598856                0.585641   \n",
       "white                                 0.890924                0.882930   \n",
       "black                                 0.673782                0.684969   \n",
       "asian                                 0.717856                0.727784   \n",
       "other_races                           0.683799                0.682804   \n",
       "inc. < $25,000                        0.864508                0.840156   \n",
       "inc. $25,000-$34,999                  0.879393                0.842436   \n",
       "inc. $35,000-$49,999                  0.911324                0.869230   \n",
       "inc. $50,000-$74,999                  0.933315                0.904200   \n",
       "inc. $75,000 -$99,999                 0.953086                0.920961   \n",
       "inc. $100,000 $149,999                1.000000                0.950501   \n",
       "inc. $150,000-$199,999                0.950501                1.000000   \n",
       "inc. $200,000_higher                  0.926115                0.931877   \n",
       "inc_na                               -0.154628               -0.106799   \n",
       "\n",
       "                        inc. $200,000_higher    inc_na  \n",
       "male                                0.794806  0.342930  \n",
       "female                              0.824738  0.283148  \n",
       "hispanic_latin                      0.535533  0.413886  \n",
       "white                               0.836065  0.153523  \n",
       "black                               0.635635  0.293903  \n",
       "asian                               0.734815  0.307617  \n",
       "other_races                         0.664530  0.203726  \n",
       "inc. < $25,000                      0.767273 -0.119336  \n",
       "inc. $25,000-$34,999                0.774827 -0.088666  \n",
       "inc. $35,000-$49,999                0.810669 -0.084559  \n",
       "inc. $50,000-$74,999                0.827422 -0.133942  \n",
       "inc. $75,000 -$99,999               0.882737 -0.129109  \n",
       "inc. $100,000 $149,999              0.926115 -0.154628  \n",
       "inc. $150,000-$199,999              0.931877 -0.106799  \n",
       "inc. $200,000_higher                1.000000 -0.127184  \n",
       "inc_na                             -0.127184  1.000000  "
      ]
     },
     "execution_count": 108,
     "metadata": {},
     "output_type": "execute_result"
    }
   ],
   "source": [
    "# creating a correlation \n",
    "sub_demo_income.corr()"
   ]
  },
  {
   "cell_type": "code",
   "execution_count": 109,
   "id": "e1e46ac6",
   "metadata": {},
   "outputs": [
    {
     "data": {
      "text/plain": [
       "<Figure size 5760x5760 with 0 Axes>"
      ]
     },
     "metadata": {},
     "output_type": "display_data"
    },
    {
     "data": {
      "image/png": "[encoded data removed]",
      "text/plain": [
       "<Figure size 288x288 with 1 Axes>"
      ]
     },
     "metadata": {
      "needs_background": "light"
     },
     "output_type": "display_data"
    }
   ],
   "source": [
    "# create a correlation heath map subset demo_income\n",
    "plt.figure(figsize=(80,80))\n",
    "plt.show()\n",
    "plt.matshow(sub_demo_income.corr())\n",
    "plt.show()"
   ]
  },
  {
   "cell_type": "code",
   "execution_count": 110,
   "id": "e207cb43",
   "metadata": {},
   "outputs": [
    {
     "data": {
      "text/plain": [
       "Text(0.5, 1.0, 'Correlation Matrix Income')"
      ]
     },
     "execution_count": 110,
     "metadata": {},
     "output_type": "execute_result"
    },
    {
     "data": {
      "image/png": "[encoded data removed]",
      "text/plain": [
       "<Figure size 576x576 with 2 Axes>"
      ]
     },
     "metadata": {
      "needs_background": "light"
     },
     "output_type": "display_data"
    }
   ],
   "source": [
    "# define the correlation heat map subset demo_social\n",
    "f = plt.figure(figsize=(8, 8)) # figure size \n",
    "plt.matshow(sub_demo_income.corr(), fignum=f.number) # type of plot\n",
    "plt.xticks(range(sub_demo_income.shape[1]), sub_demo_income.columns, fontsize=10, rotation=45) # x axis labels\n",
    "plt.yticks(range(sub_demo_income.shape[1]), sub_demo_income.columns, fontsize=10) # y axis labels\n",
    "cb = plt.colorbar() # add a colour legend (called colorbar)\n",
    "cb.ax.tick_params(labelsize=10) # add font size\n",
    "plt.title('Correlation Matrix Income', fontsize=12) # add title"
   ]
  },
  {
   "cell_type": "code",
   "execution_count": 111,
   "id": "056440d2",
   "metadata": {},
   "outputs": [
    {
     "data": {
      "image/png": "[encoded data removed]",
      "text/plain": [
       "<Figure size 720x720 with 1 Axes>"
      ]
     },
     "metadata": {
      "needs_background": "light"
     },
     "output_type": "display_data"
    }
   ],
   "source": [
    "# Create an emtpty subplot with matplotlib \n",
    "\n",
    "f,ax = plt.subplots(figsize=(10,10))"
   ]
  },
  {
   "cell_type": "code",
   "execution_count": 112,
   "id": "4b5f80e9",
   "metadata": {},
   "outputs": [],
   "source": [
    "# Create the correlation heatmap in seaborn by applying a heatmap onto the correlation matrix and the subplots defined above.\n",
    "\n",
    "sub_demo_income.corr = sns.heatmap(sub_demo_income.corr(), annot = True, ax = ax) \n",
    "\n",
    "# The `annot` argument allows the plot to place the correlation coefficients onto the heatmap."
   ]
  },
  {
   "cell_type": "code",
   "execution_count": 113,
   "id": "7ae01b75",
   "metadata": {},
   "outputs": [
    {
     "data": {
      "image/png": "[encoded data removed]",
      "text/plain": [
       "<Figure size 720x720 with 2 Axes>"
      ]
     },
     "execution_count": 113,
     "metadata": {},
     "output_type": "execute_result"
    }
   ],
   "source": [
    "# heatmap into the correlation figure\n",
    "sub_demo_income.corr.figure"
   ]
  },
  {
   "cell_type": "code",
   "execution_count": 115,
   "id": "257cba35",
   "metadata": {},
   "outputs": [],
   "source": [
    "sub_demo_income.corr.figure.savefig(os.path.join(path,'05. - MHA Visualisation', 'correlation heat map_sub demo income.png'))"
   ]
  },
  {
   "cell_type": "code",
   "execution_count": 120,
   "id": "d511a66c",
   "metadata": {},
   "outputs": [],
   "source": [
    "# saving cleaned data \n",
    "df_mha.to_excel(os.path.join(path, '02. - MHA Data', 'Prepared Data', 'Health4_3.1_US Metro Cities_cleaned.xlsx'))"
   ]
  },
  {
   "cell_type": "code",
   "execution_count": null,
   "id": "03dc3048",
   "metadata": {},
   "outputs": [],
   "source": []
  }
 ],
 "metadata": {
  "kernelspec": {
   "display_name": "Python 3",
   "language": "python",
   "name": "python3"
  },
  "language_info": {
   "codemirror_mode": {
    "name": "ipython",
    "version": 3
   },
   "file_extension": ".py",
   "mimetype": "text/x-python",
   "name": "python",
   "nbconvert_exporter": "python",
   "pygments_lexer": "ipython3",
   "version": "3.8.8"
  }
 },
 "nbformat": 4,
 "nbformat_minor": 5
}
